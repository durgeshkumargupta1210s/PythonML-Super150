{
 "cells": [
  {
   "cell_type": "code",
   "execution_count": 1,
   "id": "b2f6f121",
   "metadata": {},
   "outputs": [],
   "source": [
    "import pandas as pd\n",
    "import numpy as np\n",
    "from sklearn.model_selection import train_test_split\n",
    "from sklearn.linear_model import LogisticRegression\n",
    "from sklearn.metrics import accuracy_score\n",
    "from sklearn.preprocessing import StandardScaler\n",
    "from sklearn.preprocessing import LabelEncoder"
   ]
  },
  {
   "cell_type": "code",
   "execution_count": 2,
   "id": "9c02d862",
   "metadata": {},
   "outputs": [],
   "source": [
    "data = pd.read_csv('./Titanic.csv')"
   ]
  },
  {
   "cell_type": "code",
   "execution_count": 3,
   "id": "3b5d17ba",
   "metadata": {},
   "outputs": [
    {
     "data": {
      "application/vnd.microsoft.datawrangler.viewer.v0+json": {
       "columns": [
        {
         "name": "index",
         "rawType": "int64",
         "type": "integer"
        },
        {
         "name": "PassengerId",
         "rawType": "int64",
         "type": "integer"
        },
        {
         "name": "Survived",
         "rawType": "int64",
         "type": "integer"
        },
        {
         "name": "Pclass",
         "rawType": "int64",
         "type": "integer"
        },
        {
         "name": "Name",
         "rawType": "object",
         "type": "string"
        },
        {
         "name": "Sex",
         "rawType": "object",
         "type": "string"
        },
        {
         "name": "Age",
         "rawType": "float64",
         "type": "float"
        },
        {
         "name": "SibSp",
         "rawType": "int64",
         "type": "integer"
        },
        {
         "name": "Parch",
         "rawType": "int64",
         "type": "integer"
        },
        {
         "name": "Ticket",
         "rawType": "object",
         "type": "string"
        },
        {
         "name": "Fare",
         "rawType": "float64",
         "type": "float"
        },
        {
         "name": "Cabin",
         "rawType": "object",
         "type": "unknown"
        },
        {
         "name": "Embarked",
         "rawType": "object",
         "type": "string"
        }
       ],
       "ref": "9029f6e6-7ac3-49aa-9b62-978ceb712b9d",
       "rows": [
        [
         "0",
         "1",
         "0",
         "3",
         "Braund, Mr. Owen Harris",
         "male",
         "22.0",
         "1",
         "0",
         "A/5 21171",
         "7.25",
         null,
         "S"
        ],
        [
         "1",
         "2",
         "1",
         "1",
         "Cumings, Mrs. John Bradley (Florence Briggs Thayer)",
         "female",
         "38.0",
         "1",
         "0",
         "PC 17599",
         "71.2833",
         "C85",
         "C"
        ],
        [
         "2",
         "3",
         "1",
         "3",
         "Heikkinen, Miss. Laina",
         "female",
         "26.0",
         "0",
         "0",
         "STON/O2. 3101282",
         "7.925",
         null,
         "S"
        ],
        [
         "3",
         "4",
         "1",
         "1",
         "Futrelle, Mrs. Jacques Heath (Lily May Peel)",
         "female",
         "35.0",
         "1",
         "0",
         "113803",
         "53.1",
         "C123",
         "S"
        ],
        [
         "4",
         "5",
         "0",
         "3",
         "Allen, Mr. William Henry",
         "male",
         "35.0",
         "0",
         "0",
         "373450",
         "8.05",
         null,
         "S"
        ]
       ],
       "shape": {
        "columns": 12,
        "rows": 5
       }
      },
      "text/html": [
       "<div>\n",
       "<style scoped>\n",
       "    .dataframe tbody tr th:only-of-type {\n",
       "        vertical-align: middle;\n",
       "    }\n",
       "\n",
       "    .dataframe tbody tr th {\n",
       "        vertical-align: top;\n",
       "    }\n",
       "\n",
       "    .dataframe thead th {\n",
       "        text-align: right;\n",
       "    }\n",
       "</style>\n",
       "<table border=\"1\" class=\"dataframe\">\n",
       "  <thead>\n",
       "    <tr style=\"text-align: right;\">\n",
       "      <th></th>\n",
       "      <th>PassengerId</th>\n",
       "      <th>Survived</th>\n",
       "      <th>Pclass</th>\n",
       "      <th>Name</th>\n",
       "      <th>Sex</th>\n",
       "      <th>Age</th>\n",
       "      <th>SibSp</th>\n",
       "      <th>Parch</th>\n",
       "      <th>Ticket</th>\n",
       "      <th>Fare</th>\n",
       "      <th>Cabin</th>\n",
       "      <th>Embarked</th>\n",
       "    </tr>\n",
       "  </thead>\n",
       "  <tbody>\n",
       "    <tr>\n",
       "      <th>0</th>\n",
       "      <td>1</td>\n",
       "      <td>0</td>\n",
       "      <td>3</td>\n",
       "      <td>Braund, Mr. Owen Harris</td>\n",
       "      <td>male</td>\n",
       "      <td>22.0</td>\n",
       "      <td>1</td>\n",
       "      <td>0</td>\n",
       "      <td>A/5 21171</td>\n",
       "      <td>7.2500</td>\n",
       "      <td>NaN</td>\n",
       "      <td>S</td>\n",
       "    </tr>\n",
       "    <tr>\n",
       "      <th>1</th>\n",
       "      <td>2</td>\n",
       "      <td>1</td>\n",
       "      <td>1</td>\n",
       "      <td>Cumings, Mrs. John Bradley (Florence Briggs Th...</td>\n",
       "      <td>female</td>\n",
       "      <td>38.0</td>\n",
       "      <td>1</td>\n",
       "      <td>0</td>\n",
       "      <td>PC 17599</td>\n",
       "      <td>71.2833</td>\n",
       "      <td>C85</td>\n",
       "      <td>C</td>\n",
       "    </tr>\n",
       "    <tr>\n",
       "      <th>2</th>\n",
       "      <td>3</td>\n",
       "      <td>1</td>\n",
       "      <td>3</td>\n",
       "      <td>Heikkinen, Miss. Laina</td>\n",
       "      <td>female</td>\n",
       "      <td>26.0</td>\n",
       "      <td>0</td>\n",
       "      <td>0</td>\n",
       "      <td>STON/O2. 3101282</td>\n",
       "      <td>7.9250</td>\n",
       "      <td>NaN</td>\n",
       "      <td>S</td>\n",
       "    </tr>\n",
       "    <tr>\n",
       "      <th>3</th>\n",
       "      <td>4</td>\n",
       "      <td>1</td>\n",
       "      <td>1</td>\n",
       "      <td>Futrelle, Mrs. Jacques Heath (Lily May Peel)</td>\n",
       "      <td>female</td>\n",
       "      <td>35.0</td>\n",
       "      <td>1</td>\n",
       "      <td>0</td>\n",
       "      <td>113803</td>\n",
       "      <td>53.1000</td>\n",
       "      <td>C123</td>\n",
       "      <td>S</td>\n",
       "    </tr>\n",
       "    <tr>\n",
       "      <th>4</th>\n",
       "      <td>5</td>\n",
       "      <td>0</td>\n",
       "      <td>3</td>\n",
       "      <td>Allen, Mr. William Henry</td>\n",
       "      <td>male</td>\n",
       "      <td>35.0</td>\n",
       "      <td>0</td>\n",
       "      <td>0</td>\n",
       "      <td>373450</td>\n",
       "      <td>8.0500</td>\n",
       "      <td>NaN</td>\n",
       "      <td>S</td>\n",
       "    </tr>\n",
       "  </tbody>\n",
       "</table>\n",
       "</div>"
      ],
      "text/plain": [
       "   PassengerId  Survived  Pclass  \\\n",
       "0            1         0       3   \n",
       "1            2         1       1   \n",
       "2            3         1       3   \n",
       "3            4         1       1   \n",
       "4            5         0       3   \n",
       "\n",
       "                                                Name     Sex   Age  SibSp  \\\n",
       "0                            Braund, Mr. Owen Harris    male  22.0      1   \n",
       "1  Cumings, Mrs. John Bradley (Florence Briggs Th...  female  38.0      1   \n",
       "2                             Heikkinen, Miss. Laina  female  26.0      0   \n",
       "3       Futrelle, Mrs. Jacques Heath (Lily May Peel)  female  35.0      1   \n",
       "4                           Allen, Mr. William Henry    male  35.0      0   \n",
       "\n",
       "   Parch            Ticket     Fare Cabin Embarked  \n",
       "0      0         A/5 21171   7.2500   NaN        S  \n",
       "1      0          PC 17599  71.2833   C85        C  \n",
       "2      0  STON/O2. 3101282   7.9250   NaN        S  \n",
       "3      0            113803  53.1000  C123        S  \n",
       "4      0            373450   8.0500   NaN        S  "
      ]
     },
     "execution_count": 3,
     "metadata": {},
     "output_type": "execute_result"
    }
   ],
   "source": [
    "data.head()"
   ]
  },
  {
   "cell_type": "code",
   "execution_count": 4,
   "id": "71700fb2",
   "metadata": {},
   "outputs": [],
   "source": [
    "cols_drop = ['PassengerId', 'Name', 'Ticket', 'Cabin']"
   ]
  },
  {
   "cell_type": "code",
   "execution_count": 5,
   "id": "d8a6c02d",
   "metadata": {},
   "outputs": [],
   "source": [
    "data = data.drop(columns = cols_drop)"
   ]
  },
  {
   "cell_type": "code",
   "execution_count": 6,
   "id": "58d31e33",
   "metadata": {},
   "outputs": [
    {
     "data": {
      "text/plain": [
       "array(['S', 'C', 'Q', nan], dtype=object)"
      ]
     },
     "execution_count": 6,
     "metadata": {},
     "output_type": "execute_result"
    }
   ],
   "source": [
    "data.head()\n",
    "pd.unique(data['Embarked'])\n"
   ]
  },
  {
   "cell_type": "code",
   "execution_count": 7,
   "id": "2eccb935",
   "metadata": {},
   "outputs": [
    {
     "data": {
      "application/vnd.microsoft.datawrangler.viewer.v0+json": {
       "columns": [
        {
         "name": "index",
         "rawType": "int64",
         "type": "integer"
        },
        {
         "name": "Survived",
         "rawType": "int64",
         "type": "integer"
        },
        {
         "name": "Pclass",
         "rawType": "int64",
         "type": "integer"
        },
        {
         "name": "Sex",
         "rawType": "int64",
         "type": "integer"
        },
        {
         "name": "Age",
         "rawType": "float64",
         "type": "float"
        },
        {
         "name": "SibSp",
         "rawType": "int64",
         "type": "integer"
        },
        {
         "name": "Parch",
         "rawType": "int64",
         "type": "integer"
        },
        {
         "name": "Fare",
         "rawType": "float64",
         "type": "float"
        },
        {
         "name": "Embarked",
         "rawType": "int64",
         "type": "integer"
        }
       ],
       "ref": "0a5f7db6-3cf5-41f2-acf6-95bae94f9474",
       "rows": [
        [
         "0",
         "0",
         "3",
         "1",
         "22.0",
         "1",
         "0",
         "7.25",
         "2"
        ],
        [
         "1",
         "1",
         "1",
         "0",
         "38.0",
         "1",
         "0",
         "71.2833",
         "0"
        ],
        [
         "2",
         "1",
         "3",
         "0",
         "26.0",
         "0",
         "0",
         "7.925",
         "2"
        ],
        [
         "3",
         "1",
         "1",
         "0",
         "35.0",
         "1",
         "0",
         "53.1",
         "2"
        ],
        [
         "4",
         "0",
         "3",
         "1",
         "35.0",
         "0",
         "0",
         "8.05",
         "2"
        ]
       ],
       "shape": {
        "columns": 8,
        "rows": 5
       }
      },
      "text/html": [
       "<div>\n",
       "<style scoped>\n",
       "    .dataframe tbody tr th:only-of-type {\n",
       "        vertical-align: middle;\n",
       "    }\n",
       "\n",
       "    .dataframe tbody tr th {\n",
       "        vertical-align: top;\n",
       "    }\n",
       "\n",
       "    .dataframe thead th {\n",
       "        text-align: right;\n",
       "    }\n",
       "</style>\n",
       "<table border=\"1\" class=\"dataframe\">\n",
       "  <thead>\n",
       "    <tr style=\"text-align: right;\">\n",
       "      <th></th>\n",
       "      <th>Survived</th>\n",
       "      <th>Pclass</th>\n",
       "      <th>Sex</th>\n",
       "      <th>Age</th>\n",
       "      <th>SibSp</th>\n",
       "      <th>Parch</th>\n",
       "      <th>Fare</th>\n",
       "      <th>Embarked</th>\n",
       "    </tr>\n",
       "  </thead>\n",
       "  <tbody>\n",
       "    <tr>\n",
       "      <th>0</th>\n",
       "      <td>0</td>\n",
       "      <td>3</td>\n",
       "      <td>1</td>\n",
       "      <td>22.0</td>\n",
       "      <td>1</td>\n",
       "      <td>0</td>\n",
       "      <td>7.2500</td>\n",
       "      <td>2</td>\n",
       "    </tr>\n",
       "    <tr>\n",
       "      <th>1</th>\n",
       "      <td>1</td>\n",
       "      <td>1</td>\n",
       "      <td>0</td>\n",
       "      <td>38.0</td>\n",
       "      <td>1</td>\n",
       "      <td>0</td>\n",
       "      <td>71.2833</td>\n",
       "      <td>0</td>\n",
       "    </tr>\n",
       "    <tr>\n",
       "      <th>2</th>\n",
       "      <td>1</td>\n",
       "      <td>3</td>\n",
       "      <td>0</td>\n",
       "      <td>26.0</td>\n",
       "      <td>0</td>\n",
       "      <td>0</td>\n",
       "      <td>7.9250</td>\n",
       "      <td>2</td>\n",
       "    </tr>\n",
       "    <tr>\n",
       "      <th>3</th>\n",
       "      <td>1</td>\n",
       "      <td>1</td>\n",
       "      <td>0</td>\n",
       "      <td>35.0</td>\n",
       "      <td>1</td>\n",
       "      <td>0</td>\n",
       "      <td>53.1000</td>\n",
       "      <td>2</td>\n",
       "    </tr>\n",
       "    <tr>\n",
       "      <th>4</th>\n",
       "      <td>0</td>\n",
       "      <td>3</td>\n",
       "      <td>1</td>\n",
       "      <td>35.0</td>\n",
       "      <td>0</td>\n",
       "      <td>0</td>\n",
       "      <td>8.0500</td>\n",
       "      <td>2</td>\n",
       "    </tr>\n",
       "  </tbody>\n",
       "</table>\n",
       "</div>"
      ],
      "text/plain": [
       "   Survived  Pclass  Sex   Age  SibSp  Parch     Fare  Embarked\n",
       "0         0       3    1  22.0      1      0   7.2500         2\n",
       "1         1       1    0  38.0      1      0  71.2833         0\n",
       "2         1       3    0  26.0      0      0   7.9250         2\n",
       "3         1       1    0  35.0      1      0  53.1000         2\n",
       "4         0       3    1  35.0      0      0   8.0500         2"
      ]
     },
     "execution_count": 7,
     "metadata": {},
     "output_type": "execute_result"
    }
   ],
   "source": [
    "lab_enc = LabelEncoder()\n",
    "data['Sex'] = lab_enc.fit_transform(data['Sex'])\n",
    "data['Embarked'] = lab_enc.fit_transform(data['Embarked'])\n",
    "data.head()"
   ]
  },
  {
   "cell_type": "code",
   "execution_count": 8,
   "id": "3cf1c52a",
   "metadata": {},
   "outputs": [
    {
     "data": {
      "application/vnd.microsoft.datawrangler.viewer.v0+json": {
       "columns": [
        {
         "name": "index",
         "rawType": "object",
         "type": "string"
        },
        {
         "name": "0",
         "rawType": "int64",
         "type": "integer"
        }
       ],
       "ref": "806a1431-a635-4ddc-b42e-2703b1bd558f",
       "rows": [
        [
         "Survived",
         "0"
        ],
        [
         "Pclass",
         "0"
        ],
        [
         "Sex",
         "0"
        ],
        [
         "Age",
         "177"
        ],
        [
         "SibSp",
         "0"
        ],
        [
         "Parch",
         "0"
        ],
        [
         "Fare",
         "0"
        ],
        [
         "Embarked",
         "0"
        ]
       ],
       "shape": {
        "columns": 1,
        "rows": 8
       }
      },
      "text/plain": [
       "Survived      0\n",
       "Pclass        0\n",
       "Sex           0\n",
       "Age         177\n",
       "SibSp         0\n",
       "Parch         0\n",
       "Fare          0\n",
       "Embarked      0\n",
       "dtype: int64"
      ]
     },
     "execution_count": 8,
     "metadata": {},
     "output_type": "execute_result"
    }
   ],
   "source": [
    "data.isnull().sum()"
   ]
  },
  {
   "cell_type": "code",
   "execution_count": 9,
   "id": "e45693a8",
   "metadata": {},
   "outputs": [],
   "source": [
    "data = data.fillna(data['Age'].mean())"
   ]
  },
  {
   "cell_type": "code",
   "execution_count": 10,
   "id": "a5adf33e",
   "metadata": {},
   "outputs": [
    {
     "name": "stdout",
     "output_type": "stream",
     "text": [
      "<class 'pandas.core.frame.DataFrame'>\n",
      "RangeIndex: 891 entries, 0 to 890\n",
      "Data columns (total 8 columns):\n",
      " #   Column    Non-Null Count  Dtype  \n",
      "---  ------    --------------  -----  \n",
      " 0   Survived  891 non-null    int64  \n",
      " 1   Pclass    891 non-null    int64  \n",
      " 2   Sex       891 non-null    int64  \n",
      " 3   Age       891 non-null    float64\n",
      " 4   SibSp     891 non-null    int64  \n",
      " 5   Parch     891 non-null    int64  \n",
      " 6   Fare      891 non-null    float64\n",
      " 7   Embarked  891 non-null    int64  \n",
      "dtypes: float64(2), int64(6)\n",
      "memory usage: 55.8 KB\n"
     ]
    }
   ],
   "source": [
    "data.info()"
   ]
  },
  {
   "cell_type": "code",
   "execution_count": 37,
   "id": "2e455c12",
   "metadata": {},
   "outputs": [
    {
     "data": {
      "text/plain": [
       "['Pclass', 'Sex', 'Age', 'SibSp', 'Parch', 'Fare', 'Embarked']"
      ]
     },
     "execution_count": 37,
     "metadata": {},
     "output_type": "execute_result"
    }
   ],
   "source": [
    "input_cols = ['Pclass', 'Sex', 'Age', 'SibSp', 'Parch', 'Fare', 'Embarked']\n",
    "output_col = ['Survived']\n",
    "input_cols\n",
    "\n"
   ]
  },
  {
   "cell_type": "code",
   "execution_count": 12,
   "id": "fa67624e",
   "metadata": {},
   "outputs": [
    {
     "data": {
      "application/vnd.microsoft.datawrangler.viewer.v0+json": {
       "columns": [
        {
         "name": "index",
         "rawType": "int64",
         "type": "integer"
        },
        {
         "name": "Pclass",
         "rawType": "int64",
         "type": "integer"
        },
        {
         "name": "Sex",
         "rawType": "int64",
         "type": "integer"
        },
        {
         "name": "Age",
         "rawType": "float64",
         "type": "float"
        },
        {
         "name": "SibSp",
         "rawType": "int64",
         "type": "integer"
        },
        {
         "name": "Parch",
         "rawType": "int64",
         "type": "integer"
        },
        {
         "name": "Fare",
         "rawType": "float64",
         "type": "float"
        },
        {
         "name": "Embarked",
         "rawType": "int64",
         "type": "integer"
        }
       ],
       "ref": "65bbc415-e0f3-41b8-8ac2-62e1ab03d5f4",
       "rows": [
        [
         "0",
         "3",
         "1",
         "22.0",
         "1",
         "0",
         "7.25",
         "2"
        ],
        [
         "1",
         "1",
         "0",
         "38.0",
         "1",
         "0",
         "71.2833",
         "0"
        ],
        [
         "2",
         "3",
         "0",
         "26.0",
         "0",
         "0",
         "7.925",
         "2"
        ],
        [
         "3",
         "1",
         "0",
         "35.0",
         "1",
         "0",
         "53.1",
         "2"
        ],
        [
         "4",
         "3",
         "1",
         "35.0",
         "0",
         "0",
         "8.05",
         "2"
        ]
       ],
       "shape": {
        "columns": 7,
        "rows": 5
       }
      },
      "text/html": [
       "<div>\n",
       "<style scoped>\n",
       "    .dataframe tbody tr th:only-of-type {\n",
       "        vertical-align: middle;\n",
       "    }\n",
       "\n",
       "    .dataframe tbody tr th {\n",
       "        vertical-align: top;\n",
       "    }\n",
       "\n",
       "    .dataframe thead th {\n",
       "        text-align: right;\n",
       "    }\n",
       "</style>\n",
       "<table border=\"1\" class=\"dataframe\">\n",
       "  <thead>\n",
       "    <tr style=\"text-align: right;\">\n",
       "      <th></th>\n",
       "      <th>Pclass</th>\n",
       "      <th>Sex</th>\n",
       "      <th>Age</th>\n",
       "      <th>SibSp</th>\n",
       "      <th>Parch</th>\n",
       "      <th>Fare</th>\n",
       "      <th>Embarked</th>\n",
       "    </tr>\n",
       "  </thead>\n",
       "  <tbody>\n",
       "    <tr>\n",
       "      <th>0</th>\n",
       "      <td>3</td>\n",
       "      <td>1</td>\n",
       "      <td>22.0</td>\n",
       "      <td>1</td>\n",
       "      <td>0</td>\n",
       "      <td>7.2500</td>\n",
       "      <td>2</td>\n",
       "    </tr>\n",
       "    <tr>\n",
       "      <th>1</th>\n",
       "      <td>1</td>\n",
       "      <td>0</td>\n",
       "      <td>38.0</td>\n",
       "      <td>1</td>\n",
       "      <td>0</td>\n",
       "      <td>71.2833</td>\n",
       "      <td>0</td>\n",
       "    </tr>\n",
       "    <tr>\n",
       "      <th>2</th>\n",
       "      <td>3</td>\n",
       "      <td>0</td>\n",
       "      <td>26.0</td>\n",
       "      <td>0</td>\n",
       "      <td>0</td>\n",
       "      <td>7.9250</td>\n",
       "      <td>2</td>\n",
       "    </tr>\n",
       "    <tr>\n",
       "      <th>3</th>\n",
       "      <td>1</td>\n",
       "      <td>0</td>\n",
       "      <td>35.0</td>\n",
       "      <td>1</td>\n",
       "      <td>0</td>\n",
       "      <td>53.1000</td>\n",
       "      <td>2</td>\n",
       "    </tr>\n",
       "    <tr>\n",
       "      <th>4</th>\n",
       "      <td>3</td>\n",
       "      <td>1</td>\n",
       "      <td>35.0</td>\n",
       "      <td>0</td>\n",
       "      <td>0</td>\n",
       "      <td>8.0500</td>\n",
       "      <td>2</td>\n",
       "    </tr>\n",
       "  </tbody>\n",
       "</table>\n",
       "</div>"
      ],
      "text/plain": [
       "   Pclass  Sex   Age  SibSp  Parch     Fare  Embarked\n",
       "0       3    1  22.0      1      0   7.2500         2\n",
       "1       1    0  38.0      1      0  71.2833         0\n",
       "2       3    0  26.0      0      0   7.9250         2\n",
       "3       1    0  35.0      1      0  53.1000         2\n",
       "4       3    1  35.0      0      0   8.0500         2"
      ]
     },
     "execution_count": 12,
     "metadata": {},
     "output_type": "execute_result"
    }
   ],
   "source": [
    "X_data = data[input_cols]\n",
    "Y_data = data['Survived']\n",
    "X_data.head()"
   ]
  },
  {
   "cell_type": "code",
   "execution_count": 13,
   "id": "62f3ce7c",
   "metadata": {},
   "outputs": [
    {
     "data": {
      "application/vnd.microsoft.datawrangler.viewer.v0+json": {
       "columns": [
        {
         "name": "index",
         "rawType": "int64",
         "type": "integer"
        },
        {
         "name": "Survived",
         "rawType": "int64",
         "type": "integer"
        }
       ],
       "ref": "37255d99-0529-4325-88b3-22557433d04a",
       "rows": [
        [
         "0",
         "0"
        ],
        [
         "1",
         "1"
        ],
        [
         "2",
         "1"
        ],
        [
         "3",
         "1"
        ],
        [
         "4",
         "0"
        ]
       ],
       "shape": {
        "columns": 1,
        "rows": 5
       }
      },
      "text/plain": [
       "0    0\n",
       "1    1\n",
       "2    1\n",
       "3    1\n",
       "4    0\n",
       "Name: Survived, dtype: int64"
      ]
     },
     "execution_count": 13,
     "metadata": {},
     "output_type": "execute_result"
    }
   ],
   "source": [
    "Y_data.head()"
   ]
  },
  {
   "cell_type": "code",
   "execution_count": 14,
   "id": "78baa412",
   "metadata": {},
   "outputs": [
    {
     "name": "stdout",
     "output_type": "stream",
     "text": [
      "(891, 7) (891,)\n"
     ]
    }
   ],
   "source": [
    "print(X_data.shape, Y_data.shape)"
   ]
  },
  {
   "cell_type": "code",
   "execution_count": 15,
   "id": "82636f24",
   "metadata": {},
   "outputs": [],
   "source": [
    "X_data = X_data.values\n",
    "Y_data = Y_data.values"
   ]
  },
  {
   "cell_type": "code",
   "execution_count": 16,
   "id": "0dbb7236",
   "metadata": {},
   "outputs": [],
   "source": [
    "x_train,x_test,y_train,y_test = train_test_split(X_data,Y_data,train_size = 0.8)"
   ]
  },
  {
   "cell_type": "code",
   "execution_count": 17,
   "id": "a331800f",
   "metadata": {},
   "outputs": [],
   "source": [
    "scale = StandardScaler()\n",
    "x_train = scale.fit_transform(x_train)\n",
    "x_test = scale.transform(x_test)"
   ]
  },
  {
   "cell_type": "code",
   "execution_count": 18,
   "id": "7d28fad0",
   "metadata": {},
   "outputs": [
    {
     "data": {
      "text/plain": [
       "array([[-0.87710169, -1.26517618, -0.46841027, -0.30764108, -0.04653375,\n",
       "         0.10975373, -0.17651035]])"
      ]
     },
     "execution_count": 18,
     "metadata": {},
     "output_type": "execute_result"
    }
   ],
   "source": [
    "clf = LogisticRegression()\n",
    "clf.fit(x_train,y_train)\n",
    "clf.coef_"
   ]
  },
  {
   "cell_type": "code",
   "execution_count": 19,
   "id": "b5c102c9",
   "metadata": {},
   "outputs": [
    {
     "data": {
      "text/plain": [
       "array([-0.45992401])"
      ]
     },
     "execution_count": 19,
     "metadata": {},
     "output_type": "execute_result"
    }
   ],
   "source": [
    "clf.intercept_"
   ]
  },
  {
   "cell_type": "code",
   "execution_count": 20,
   "id": "ee34ebb7",
   "metadata": {},
   "outputs": [
    {
     "data": {
      "text/plain": [
       "0.7963483146067416"
      ]
     },
     "execution_count": 20,
     "metadata": {},
     "output_type": "execute_result"
    }
   ],
   "source": [
    "accuracy_score(y_train,clf.predict(x_train))"
   ]
  },
  {
   "cell_type": "code",
   "execution_count": 21,
   "id": "76be1912",
   "metadata": {},
   "outputs": [
    {
     "data": {
      "text/plain": [
       "0.7932960893854749"
      ]
     },
     "execution_count": 21,
     "metadata": {},
     "output_type": "execute_result"
    }
   ],
   "source": [
    "accuracy_score(y_test,clf.predict(x_test))"
   ]
  },
  {
   "cell_type": "code",
   "execution_count": 22,
   "id": "3c7bdd35",
   "metadata": {},
   "outputs": [
    {
     "data": {
      "text/plain": [
       "array([[-1.52473584, -1.35941164, -0.87466722,  4.96544391, -0.47097568,\n",
       "         1.39341232, -1.89405673]])"
      ]
     },
     "execution_count": 22,
     "metadata": {},
     "output_type": "execute_result"
    }
   ],
   "source": [
    "xt = np.array([[1,0,18,6,0,100,0]])\n",
    "xt = scale.transform(xt)\n",
    "xt"
   ]
  },
  {
   "cell_type": "code",
   "execution_count": 23,
   "id": "0c965a46",
   "metadata": {},
   "outputs": [
    {
     "data": {
      "text/plain": [
       "array([1])"
      ]
     },
     "execution_count": 23,
     "metadata": {},
     "output_type": "execute_result"
    }
   ],
   "source": [
    "clf.predict(xt)"
   ]
  },
  {
   "cell_type": "code",
   "execution_count": 24,
   "id": "ebbdfbbb",
   "metadata": {},
   "outputs": [],
   "source": [
    "from sklearn.metrics import confusion_matrix, classification_report,roc_curve\n",
    "import seaborn as sns\n",
    "import matplotlib.pyplot as plt"
   ]
  },
  {
   "cell_type": "code",
   "execution_count": 25,
   "id": "c39e56c7",
   "metadata": {},
   "outputs": [],
   "source": [
    "ypred = [1,1,0,0,0,1,0,1,1,1]\n",
    "yac = [1,0,0,0,1,1,0,1,0,1]"
   ]
  },
  {
   "cell_type": "code",
   "execution_count": 26,
   "id": "d98ea46f",
   "metadata": {},
   "outputs": [],
   "source": [
    "cm = confusion_matrix(yac,ypred)"
   ]
  },
  {
   "cell_type": "code",
   "execution_count": 27,
   "id": "e65d571c",
   "metadata": {},
   "outputs": [
    {
     "data": {
      "text/plain": [
       "<Axes: >"
      ]
     },
     "execution_count": 27,
     "metadata": {},
     "output_type": "execute_result"
    },
    {
     "data": {
      "image/png": "[encoded data removed]",
      "text/plain": [
       "<Figure size 640x480 with 2 Axes>"
      ]
     },
     "metadata": {},
     "output_type": "display_data"
    }
   ],
   "source": [
    "sns.heatmap(cm,annot=True)"
   ]
  },
  {
   "cell_type": "code",
   "execution_count": 28,
   "id": "7e3cd517",
   "metadata": {},
   "outputs": [
    {
     "data": {
      "text/plain": [
       "<Axes: >"
      ]
     },
     "execution_count": 28,
     "metadata": {},
     "output_type": "execute_result"
    },
    {
     "data": {
      "image/png": "[encoded data removed]",
      "text/plain": [
       "<Figure size 640x480 with 2 Axes>"
      ]
     },
     "metadata": {},
     "output_type": "display_data"
    }
   ],
   "source": [
    "sns.heatmap(confusion_matrix(y_train,clf.predict(x_train)),annot = True,fmt='g')"
   ]
  },
  {
   "cell_type": "code",
   "execution_count": 29,
   "id": "38c31ea3",
   "metadata": {},
   "outputs": [
    {
     "name": "stdout",
     "output_type": "stream",
     "text": [
      "              precision    recall  f1-score   support\n",
      "\n",
      "           0       0.75      0.60      0.67         5\n",
      "           1       0.67      0.80      0.73         5\n",
      "\n",
      "    accuracy                           0.70        10\n",
      "   macro avg       0.71      0.70      0.70        10\n",
      "weighted avg       0.71      0.70      0.70        10\n",
      "\n"
     ]
    }
   ],
   "source": [
    "print(classification_report(yac,ypred))"
   ]
  },
  {
   "cell_type": "code",
   "execution_count": 30,
   "id": "091a0f37",
   "metadata": {},
   "outputs": [
    {
     "name": "stdout",
     "output_type": "stream",
     "text": [
      "              precision    recall  f1-score   support\n",
      "\n",
      "           0       0.81      0.85      0.83       420\n",
      "           1       0.77      0.72      0.74       292\n",
      "\n",
      "    accuracy                           0.80       712\n",
      "   macro avg       0.79      0.78      0.79       712\n",
      "weighted avg       0.80      0.80      0.80       712\n",
      "\n"
     ]
    }
   ],
   "source": [
    "print(classification_report(y_train,clf.predict(x_train)))"
   ]
  },
  {
   "cell_type": "code",
   "execution_count": 31,
   "id": "b8ece331",
   "metadata": {},
   "outputs": [],
   "source": [
    "fpr,tpr,_ = roc_curve(y_train,clf.predict_proba(x_train)[:,0],pos_label=0)\n",
    "\n",
    "# fpr, tpr, _ = roc_curve(y_train, clf.predict_proba(x_train)[:,0], pos_label=0)\n",
    "# clf.predict_proba(x_train)[:, 0]:\n",
    "# This gives the predicted probability that each sample belongs to class 0.\n",
    "\n",
    "# roc_curve(y_train, ..., pos_label=0):\n",
    "\n",
    "# Calculates the FPR and TPR at various thresholds.\n",
    "\n",
    "# pos_label=0 means we are treating class 0 as the positive class (which is a bit unusual — usually 1 is the positive class).\n",
    "\n",
    "# 📌 Mathematical meaning:\n",
    "\n",
    "# For multiple thresholds (e.g. 0.1, 0.2, ..., 0.9), it calculates:\n",
    "\n",
    "# TPR (Recall) = TP / (TP + FN)\n",
    "\n",
    "# FPR = FP / (FP + TN)\n",
    "\n"
   ]
  },
  {
   "cell_type": "code",
   "execution_count": 32,
   "id": "5fc01084",
   "metadata": {},
   "outputs": [
    {
     "data": {
      "image/png": "[encoded data removed]",
      "text/plain": [
       "<Figure size 640x480 with 1 Axes>"
      ]
     },
     "metadata": {},
     "output_type": "display_data"
    }
   ],
   "source": [
    "plt.plot(fpr,tpr)\n",
    "plt.plot([0,1],[0,1],'r--')\n",
    "plt.grid()\n",
    "plt.title('ROC Curve')\n",
    "plt.show()\n",
    "\n",
    "# plt.plot([0,1],[0,1],'r--')\n",
    "# This plots a dashed red diagonal line from (0,0) to (1,1),\n",
    "#  representing a random classifier — i.e., 50/50 guessing.\n",
    "\n"
   ]
  },
  {
   "cell_type": "code",
   "execution_count": 33,
   "id": "958101ef",
   "metadata": {},
   "outputs": [
    {
     "data": {
      "text/plain": [
       "array([0.26372528, 0.43322584, 0.15672148, 0.2996389 , 0.71384935,\n",
       "       0.90900087, 0.25554254, 0.91328457, 0.11370831, 0.96549143,\n",
       "       0.38342884, 0.29387314, 0.67952122, 0.96617826, 0.09732285,\n",
       "       0.64055076, 0.21335874, 0.01268759, 0.12708927, 0.69459082,\n",
       "       0.79193763, 0.94153834, 0.91000713, 0.11970098, 0.67340607,\n",
       "       0.12708927, 0.49880045, 0.88899519, 0.13336566, 0.87246542,\n",
       "       0.04731055, 0.1037899 , 0.13168649, 0.1254493 , 0.23690865,\n",
       "       0.10409642, 0.93652147, 0.10476224, 0.40860289, 0.37521619,\n",
       "       0.10473653, 0.40480322, 0.12695571, 0.72068546, 0.67065712,\n",
       "       0.75763379, 0.68707208, 0.59384965, 0.40181177, 0.13873019,\n",
       "       0.83927351, 0.06559071, 0.90878692, 0.06462827, 0.87504201,\n",
       "       0.89024797, 0.66350759, 0.58755029, 0.59608261, 0.79984437,\n",
       "       0.85393384, 0.22401767, 0.30653887, 0.10476224, 0.64658397,\n",
       "       0.39964275, 0.95615915, 0.10431362, 0.18368693, 0.15185796,\n",
       "       0.65370368, 0.11556764, 0.12192505, 0.22433921, 0.13776907,\n",
       "       0.11612997, 0.80692673, 0.13343672, 0.13771629, 0.67804931,\n",
       "       0.24986075, 0.2463638 , 0.06343264, 0.95509598, 0.15410289,\n",
       "       0.11783368, 0.62155612, 0.08812731, 0.96886852, 0.13353516,\n",
       "       0.80257958, 0.84550213, 0.95826191, 0.12710922, 0.76849571,\n",
       "       0.12708404, 0.12587428, 0.10479507, 0.46548303, 0.15539031,\n",
       "       0.20653535, 0.93356181, 0.60274253, 0.11823737, 0.16086028,\n",
       "       0.67786348, 0.47970566, 0.13336566, 0.61362011, 0.81452643,\n",
       "       0.36358879, 0.09677957, 0.07527608, 0.11780518, 0.14644384,\n",
       "       0.74633687, 0.56026871, 0.67347056, 0.18427522, 0.90268975,\n",
       "       0.66015104, 0.67340607, 0.14892226, 0.11095824, 0.39429723,\n",
       "       0.65217714, 0.13333287, 0.15368643, 0.11395554, 0.6131193 ,\n",
       "       0.32975652, 0.84737925, 0.15108846, 0.49936888, 0.12905349,\n",
       "       0.92927655, 0.5505574 , 0.8394198 , 0.12944064, 0.327702  ,\n",
       "       0.91636311, 0.11704868, 0.70182353, 0.71571267, 0.10083151,\n",
       "       0.1329547 , 0.79984438, 0.13391751, 0.9419029 , 0.27258987,\n",
       "       0.79755449, 0.12979164, 0.6964176 , 0.14247414, 0.70413799,\n",
       "       0.08698028, 0.09121775, 0.13357566, 0.1338254 , 0.49818255,\n",
       "       0.93220078, 0.61537484, 0.70136007, 0.67347056, 0.88104364,\n",
       "       0.89770546, 0.08543202, 0.68572038, 0.25739287, 0.79213147,\n",
       "       0.10710418, 0.14644384, 0.4026783 , 0.77436281, 0.14179611,\n",
       "       0.57955466, 0.95714484, 0.11556764, 0.35892868, 0.16887189,\n",
       "       0.7296777 , 0.13787244, 0.27824008, 0.16925775, 0.53714819,\n",
       "       0.82004225, 0.64606157, 0.50129828, 0.79195275, 0.96064624,\n",
       "       0.67339774, 0.12708927, 0.12708927, 0.2108842 , 0.83517325,\n",
       "       0.30442523, 0.92566271, 0.61025408, 0.86614898, 0.35500068,\n",
       "       0.29218814, 0.29498792, 0.71137178, 0.32923603, 0.73926504,\n",
       "       0.53782655, 0.1061764 , 0.17401465, 0.93112051, 0.01268759,\n",
       "       0.15397117, 0.13773537, 0.7439351 , 0.84493902, 0.60530031,\n",
       "       0.05170664, 0.96695748, 0.04445738, 0.12988891, 0.12708927,\n",
       "       0.93101366, 0.09960451, 0.23191846, 0.16077351, 0.66091644,\n",
       "       0.25867168, 0.19465528, 0.15117295, 0.35105842, 0.11787007,\n",
       "       0.60637302, 0.81180985, 0.76934936, 0.24321792, 0.80186603,\n",
       "       0.66960588, 0.77250711, 0.61826431, 0.21013677, 0.92066582,\n",
       "       0.14421793, 0.25044169, 0.11783172, 0.49684392, 0.26237044,\n",
       "       0.05964899, 0.89251543, 0.73417663, 0.30486598, 0.13323579,\n",
       "       0.85393384, 0.33845076, 0.94220121, 0.32758807, 0.10479507,\n",
       "       0.13770055, 0.58677442, 0.10476224, 0.90756461, 0.46860473,\n",
       "       0.79795859, 0.2996389 , 0.10463814, 0.58255763, 0.83559915,\n",
       "       0.95012932, 0.07004072, 0.31552892, 0.57694144, 0.7193485 ,\n",
       "       0.07286963, 0.15584104, 0.1058532 , 0.48178702, 0.55857227,\n",
       "       0.87471187, 0.09473863, 0.83884033, 0.15324905, 0.27050385,\n",
       "       0.33768891, 0.1335089 , 0.1819914 , 0.03956698, 0.7799062 ,\n",
       "       0.15558544, 0.20383784, 0.51014841, 0.09450727, 0.94065766,\n",
       "       0.50192225, 0.18301469, 0.10479507, 0.93095938, 0.56166466,\n",
       "       0.15324905, 0.10479507, 0.61998388, 0.15324905, 0.67340607,\n",
       "       0.11416672, 0.10479507, 0.05449741, 0.82323688, 0.38861687,\n",
       "       0.41290209, 0.14640957, 0.0723397 , 0.11532104, 0.36650654,\n",
       "       0.97108369, 0.18414584, 0.09417275, 0.09092575, 0.10468865,\n",
       "       0.15324782, 0.90057484, 0.07489774, 0.12547421, 0.1061764 ,\n",
       "       0.19447086, 0.55020004, 0.96072114, 0.08811363, 0.2996389 ,\n",
       "       0.45626504, 0.55170455, 0.08374816, 0.27636552, 0.49684392,\n",
       "       0.2463638 , 0.07741836, 0.24670823, 0.88967192, 0.13755352,\n",
       "       0.19247574, 0.68573261, 0.10048454, 0.10480838, 0.04340628,\n",
       "       0.12551262, 0.90409884, 0.46520041, 0.96327656, 0.28484729,\n",
       "       0.6518721 , 0.1228305 , 0.12708927, 0.32923603, 0.70535082,\n",
       "       0.14140412, 0.10476224, 0.14648759, 0.09729793, 0.09179879,\n",
       "       0.10476224, 0.07005379, 0.91809456, 0.56097831, 0.08537277,\n",
       "       0.16041654, 0.12537462, 0.13793429, 0.15093569, 0.86615798,\n",
       "       0.23567234, 0.75286949, 0.45522441, 0.12144577, 0.80404833,\n",
       "       0.05943421, 0.39109392, 0.40083356, 0.070039  , 0.97519002,\n",
       "       0.10476224, 0.38718241, 0.17557981, 0.50568702, 0.911791  ,\n",
       "       0.33914455, 0.49908518, 0.77728964, 0.75265047, 0.34970148,\n",
       "       0.94697689, 0.90452041, 0.50583717, 0.57800576, 0.44947484,\n",
       "       0.26612304, 0.10630571, 0.10741947, 0.0801349 , 0.10362112,\n",
       "       0.12708927, 0.04909024, 0.03936442, 0.10479507, 0.85895183,\n",
       "       0.1603325 , 0.01268759, 0.13181631, 0.35337796, 0.13615106,\n",
       "       0.12139735, 0.10476224, 0.14257006, 0.52777323, 0.43171897,\n",
       "       0.12708927, 0.95680044, 0.09914027, 0.05921256, 0.06781689,\n",
       "       0.10492556, 0.11783368, 0.10747554, 0.80873405, 0.10479507,\n",
       "       0.6964176 , 0.94786608, 0.14203796, 0.90409883, 0.10747917,\n",
       "       0.66558302, 0.11057725, 0.69843435, 0.01268759, 0.17821262,\n",
       "       0.12356309, 0.11059957, 0.80006596, 0.96212318, 0.29101602,\n",
       "       0.0978505 , 0.67342479, 0.10479507, 0.51479938, 0.11133947,\n",
       "       0.80068235, 0.9565513 , 0.33049033, 0.23725597, 0.90260198,\n",
       "       0.15688235, 0.12526371, 0.21689703, 0.56097831, 0.29152034,\n",
       "       0.28484729, 0.09480879, 0.10045377, 0.83517325, 0.77464297,\n",
       "       0.96794782, 0.79595879, 0.81541348, 0.76978139, 0.10473653,\n",
       "       0.89227059, 0.85991114, 0.05732555, 0.09738518, 0.9497328 ,\n",
       "       0.03666581, 0.10479507, 0.39967774, 0.14201838, 0.86048878,\n",
       "       0.09729211, 0.15324905, 0.69119017, 0.52320026, 0.41320638,\n",
       "       0.94865025, 0.02343118, 0.61362011, 0.10479507, 0.15344548,\n",
       "       0.49653185, 0.9280834 , 0.25188298, 0.15397117, 0.92869007,\n",
       "       0.24986075, 0.10476224, 0.18701236, 0.17496798, 0.09611958,\n",
       "       0.40574904, 0.96253077, 0.23000413, 0.36142716, 0.88189063,\n",
       "       0.66350966, 0.10559937, 0.65410157, 0.14648759, 0.15324782,\n",
       "       0.0676793 , 0.07340484, 0.27081009, 0.50235309, 0.15538251,\n",
       "       0.19100437, 0.14224206, 0.86101549, 0.36513302, 0.91811803,\n",
       "       0.06557333, 0.50163855, 0.98180957, 0.58303887, 0.06810363,\n",
       "       0.64235447, 0.60691235, 0.36984289, 0.10476224, 0.18081193,\n",
       "       0.12396747, 0.34520626, 0.60530031, 0.70704777, 0.09674927,\n",
       "       0.68547577, 0.36041043, 0.67340607, 0.09729793, 0.51128272,\n",
       "       0.20265557, 0.63762298, 0.12160225, 0.06378954, 0.15092842,\n",
       "       0.37415584, 0.14637411, 0.10479507, 0.65419587, 0.22401767,\n",
       "       0.30642679, 0.39553639, 0.19913469, 0.80006596, 0.75148551,\n",
       "       0.03273326, 0.22401767, 0.08000672, 0.76738341, 0.07118033,\n",
       "       0.96206707, 0.85066119, 0.12201707, 0.87890024, 0.10462485,\n",
       "       0.44069837, 0.07950472, 0.33800908, 0.10570996, 0.12708927,\n",
       "       0.85427445, 0.09003485, 0.2984495 , 0.08194558, 0.97280042,\n",
       "       0.51710673, 0.22293191, 0.08275873, 0.95545686, 0.49880147,\n",
       "       0.96317047, 0.96249148, 0.27050385, 0.96695748, 0.2278558 ,\n",
       "       0.10476224, 0.10462485, 0.83304635, 0.09539887, 0.62375767,\n",
       "       0.54970369, 0.13357566, 0.79213147, 0.82508978, 0.68674054,\n",
       "       0.67339984, 0.95560189, 0.9558436 , 0.14692685, 0.36830207,\n",
       "       0.10462485, 0.71349028, 0.75437249, 0.16577389, 0.37607725,\n",
       "       0.16041654, 0.86538957, 0.95384108, 0.63467181, 0.11281624,\n",
       "       0.12708927, 0.13570339, 0.96530797, 0.13773537, 0.07088114,\n",
       "       0.08008987, 0.19247426, 0.77597762, 0.10716388, 0.12528652,\n",
       "       0.88545882, 0.88757765, 0.90207486, 0.4903714 , 0.48941426,\n",
       "       0.1371317 , 0.67879826, 0.34319902, 0.51665821, 0.12139735,\n",
       "       0.97134199, 0.10476224, 0.10083151, 0.14008262, 0.09121775,\n",
       "       0.64772287, 0.51605824, 0.79476062, 0.15094174, 0.13040283,\n",
       "       0.66707593, 0.2463638 , 0.2936658 , 0.10479507, 0.9489762 ,\n",
       "       0.08829617, 0.67340607, 0.36358879, 0.93059402, 0.45848715,\n",
       "       0.2463638 , 0.2463638 , 0.91060661, 0.1819914 , 0.58701091,\n",
       "       0.28484729, 0.13770168, 0.10375735, 0.27648205, 0.90290884,\n",
       "       0.82276306, 0.72130185, 0.69332755, 0.14832742, 0.10712588,\n",
       "       0.21183   , 0.07741836, 0.23725597, 0.64431263, 0.17821262,\n",
       "       0.06309168, 0.08309732, 0.40168645, 0.91645476, 0.31095412,\n",
       "       0.04736716, 0.71558372, 0.08342737, 0.93851603, 0.73783239,\n",
       "       0.12154267, 0.6132011 , 0.10066289, 0.34380682, 0.12979183,\n",
       "       0.1396886 , 0.10476224, 0.13893824, 0.71934657, 0.61362011,\n",
       "       0.15344548, 0.77091887, 0.42165983, 0.39075498, 0.09326293,\n",
       "       0.13596809, 0.5120327 , 0.39393211, 0.80937395, 0.05210185,\n",
       "       0.24986075, 0.67340607, 0.15324905, 0.08404216, 0.8646082 ,\n",
       "       0.08260202, 0.9211894 , 0.2463638 , 0.15324905, 0.82938963,\n",
       "       0.06710561, 0.39143867, 0.8125856 , 0.26350498, 0.12945128,\n",
       "       0.08342737, 0.14709044, 0.50505183, 0.44064243, 0.33772768,\n",
       "       0.11095824, 0.41320638])"
      ]
     },
     "execution_count": 33,
     "metadata": {},
     "output_type": "execute_result"
    }
   ],
   "source": [
    "clf.predict_proba(x_train)[:,1]"
   ]
  },
  {
   "cell_type": "code",
   "execution_count": 34,
   "id": "c43317af",
   "metadata": {},
   "outputs": [
    {
     "data": {
      "image/png": "[encoded data removed]",
      "text/plain": [
       "<Figure size 800x600 with 1 Axes>"
      ]
     },
     "metadata": {},
     "output_type": "display_data"
    }
   ],
   "source": [
    "import numpy as np\n",
    "import matplotlib.pyplot as plt\n",
    "from sklearn.metrics import roc_curve, roc_auc_score\n",
    "\n",
    "# Same actual and predicted probabilities as before\n",
    "actual = np.array([\n",
    "    1, 1, 1, 0, 0, 1, 0, 0, 1, 0,\n",
    "    1, 1, 0, 1, 0, 0, 1, 1, 0, 0\n",
    "])\n",
    "\n",
    "# Instead of hard labels, use prediction **probabilities** (fake example)\n",
    "# These would normally come from model.predict_proba()[:, 1]\n",
    "# Here we use random plausible probabilities for illustration:\n",
    "predicted_prob = np.array([\n",
    "    0.9, 0.85, 0.4, 0.2, 0.7, 0.8, 0.1, 0.3, 0.2, 0.75,\n",
    "    0.88, 0.82, 0.3, 0.35, 0.25, 0.1, 0.9, 0.92, 0.2, 0.7\n",
    "])\n",
    "\n",
    "# Compute ROC curve\n",
    "fpr, tpr, thresholds = roc_curve(actual, predicted_prob)\n",
    "\n",
    "# Compute AUC (Area Under Curve)\n",
    "auc_score = roc_auc_score(actual, predicted_prob)\n",
    "\n",
    "# Plot ROC curve\n",
    "plt.figure(figsize=(8, 6))\n",
    "plt.plot(fpr, tpr, color='darkorange', linewidth=2, label=f'ROC Curve (AUC = {auc_score:.2f})')\n",
    "plt.plot([0, 1], [0, 1], color='navy', linestyle='--')  # Diagonal line\n",
    "plt.xlim([0.0, 1.0])\n",
    "plt.ylim([0.0, 1.05])\n",
    "plt.xlabel('False Positive Rate')\n",
    "plt.ylabel('True Positive Rate (Recall)')\n",
    "plt.title('Receiver Operating Characteristic (ROC) Curve')\n",
    "plt.legend(loc=\"lower right\")\n",
    "plt.grid(True)\n",
    "plt.show()\n"
   ]
  },
  {
   "cell_type": "code",
   "execution_count": null,
   "id": "92838b69",
   "metadata": {},
   "outputs": [],
   "source": []
  },
  {
   "cell_type": "code",
   "execution_count": null,
   "id": "280c3765",
   "metadata": {},
   "outputs": [],
   "source": []
  },
  {
   "cell_type": "code",
   "execution_count": null,
   "id": "9f6a297d",
   "metadata": {},
   "outputs": [],
   "source": []
  },
  {
   "cell_type": "code",
   "execution_count": null,
   "id": "1b5f6d88",
   "metadata": {},
   "outputs": [],
   "source": []
  }
 ],
 "metadata": {
  "kernelspec": {
   "display_name": ".venv",
   "language": "python",
   "name": "python3"
  },
  "language_info": {
   "codemirror_mode": {
    "name": "ipython",
    "version": 3
   },
   "file_extension": ".py",
   "mimetype": "text/x-python",
   "name": "python",
   "nbconvert_exporter": "python",
   "pygments_lexer": "ipython3",
   "version": "3.13.1"
  }
 },
 "nbformat": 4,
 "nbformat_minor": 5
}
