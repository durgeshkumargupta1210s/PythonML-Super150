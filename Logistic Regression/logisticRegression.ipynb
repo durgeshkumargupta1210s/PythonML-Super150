{
 "cells": [
  {
   "cell_type": "code",
   "execution_count": 3,
   "id": "b2f6f121",
   "metadata": {},
   "outputs": [],
   "source": [
    "import pandas as pd\n",
    "import numpy as np\n",
    "from sklearn.model_selection import train_test_split\n",
    "from sklearn.linear_model import LogisticRegression\n",
    "from sklearn.metrics import accuracy_score\n",
    "from sklearn.preprocessing import StandardScaler\n",
    "from sklearn.preprocessing import LabelEncoder"
   ]
  },
  {
   "cell_type": "code",
   "execution_count": 4,
   "id": "9c02d862",
   "metadata": {},
   "outputs": [],
   "source": [
    "data = pd.read_csv('./Titanic.csv')"
   ]
  },
  {
   "cell_type": "code",
   "execution_count": 5,
   "id": "3b5d17ba",
   "metadata": {},
   "outputs": [
    {
     "data": {
      "application/vnd.microsoft.datawrangler.viewer.v0+json": {
       "columns": [
        {
         "name": "index",
         "rawType": "int64",
         "type": "integer"
        },
        {
         "name": "PassengerId",
         "rawType": "int64",
         "type": "integer"
        },
        {
         "name": "Survived",
         "rawType": "int64",
         "type": "integer"
        },
        {
         "name": "Pclass",
         "rawType": "int64",
         "type": "integer"
        },
        {
         "name": "Name",
         "rawType": "object",
         "type": "string"
        },
        {
         "name": "Sex",
         "rawType": "object",
         "type": "string"
        },
        {
         "name": "Age",
         "rawType": "float64",
         "type": "float"
        },
        {
         "name": "SibSp",
         "rawType": "int64",
         "type": "integer"
        },
        {
         "name": "Parch",
         "rawType": "int64",
         "type": "integer"
        },
        {
         "name": "Ticket",
         "rawType": "object",
         "type": "string"
        },
        {
         "name": "Fare",
         "rawType": "float64",
         "type": "float"
        },
        {
         "name": "Cabin",
         "rawType": "object",
         "type": "unknown"
        },
        {
         "name": "Embarked",
         "rawType": "object",
         "type": "string"
        }
       ],
       "ref": "98a0b8a3-5419-476e-8765-93dfd187df00",
       "rows": [
        [
         "0",
         "1",
         "0",
         "3",
         "Braund, Mr. Owen Harris",
         "male",
         "22.0",
         "1",
         "0",
         "A/5 21171",
         "7.25",
         null,
         "S"
        ],
        [
         "1",
         "2",
         "1",
         "1",
         "Cumings, Mrs. John Bradley (Florence Briggs Thayer)",
         "female",
         "38.0",
         "1",
         "0",
         "PC 17599",
         "71.2833",
         "C85",
         "C"
        ],
        [
         "2",
         "3",
         "1",
         "3",
         "Heikkinen, Miss. Laina",
         "female",
         "26.0",
         "0",
         "0",
         "STON/O2. 3101282",
         "7.925",
         null,
         "S"
        ],
        [
         "3",
         "4",
         "1",
         "1",
         "Futrelle, Mrs. Jacques Heath (Lily May Peel)",
         "female",
         "35.0",
         "1",
         "0",
         "113803",
         "53.1",
         "C123",
         "S"
        ],
        [
         "4",
         "5",
         "0",
         "3",
         "Allen, Mr. William Henry",
         "male",
         "35.0",
         "0",
         "0",
         "373450",
         "8.05",
         null,
         "S"
        ]
       ],
       "shape": {
        "columns": 12,
        "rows": 5
       }
      },
      "text/html": [
       "<div>\n",
       "<style scoped>\n",
       "    .dataframe tbody tr th:only-of-type {\n",
       "        vertical-align: middle;\n",
       "    }\n",
       "\n",
       "    .dataframe tbody tr th {\n",
       "        vertical-align: top;\n",
       "    }\n",
       "\n",
       "    .dataframe thead th {\n",
       "        text-align: right;\n",
       "    }\n",
       "</style>\n",
       "<table border=\"1\" class=\"dataframe\">\n",
       "  <thead>\n",
       "    <tr style=\"text-align: right;\">\n",
       "      <th></th>\n",
       "      <th>PassengerId</th>\n",
       "      <th>Survived</th>\n",
       "      <th>Pclass</th>\n",
       "      <th>Name</th>\n",
       "      <th>Sex</th>\n",
       "      <th>Age</th>\n",
       "      <th>SibSp</th>\n",
       "      <th>Parch</th>\n",
       "      <th>Ticket</th>\n",
       "      <th>Fare</th>\n",
       "      <th>Cabin</th>\n",
       "      <th>Embarked</th>\n",
       "    </tr>\n",
       "  </thead>\n",
       "  <tbody>\n",
       "    <tr>\n",
       "      <th>0</th>\n",
       "      <td>1</td>\n",
       "      <td>0</td>\n",
       "      <td>3</td>\n",
       "      <td>Braund, Mr. Owen Harris</td>\n",
       "      <td>male</td>\n",
       "      <td>22.0</td>\n",
       "      <td>1</td>\n",
       "      <td>0</td>\n",
       "      <td>A/5 21171</td>\n",
       "      <td>7.2500</td>\n",
       "      <td>NaN</td>\n",
       "      <td>S</td>\n",
       "    </tr>\n",
       "    <tr>\n",
       "      <th>1</th>\n",
       "      <td>2</td>\n",
       "      <td>1</td>\n",
       "      <td>1</td>\n",
       "      <td>Cumings, Mrs. John Bradley (Florence Briggs Th...</td>\n",
       "      <td>female</td>\n",
       "      <td>38.0</td>\n",
       "      <td>1</td>\n",
       "      <td>0</td>\n",
       "      <td>PC 17599</td>\n",
       "      <td>71.2833</td>\n",
       "      <td>C85</td>\n",
       "      <td>C</td>\n",
       "    </tr>\n",
       "    <tr>\n",
       "      <th>2</th>\n",
       "      <td>3</td>\n",
       "      <td>1</td>\n",
       "      <td>3</td>\n",
       "      <td>Heikkinen, Miss. Laina</td>\n",
       "      <td>female</td>\n",
       "      <td>26.0</td>\n",
       "      <td>0</td>\n",
       "      <td>0</td>\n",
       "      <td>STON/O2. 3101282</td>\n",
       "      <td>7.9250</td>\n",
       "      <td>NaN</td>\n",
       "      <td>S</td>\n",
       "    </tr>\n",
       "    <tr>\n",
       "      <th>3</th>\n",
       "      <td>4</td>\n",
       "      <td>1</td>\n",
       "      <td>1</td>\n",
       "      <td>Futrelle, Mrs. Jacques Heath (Lily May Peel)</td>\n",
       "      <td>female</td>\n",
       "      <td>35.0</td>\n",
       "      <td>1</td>\n",
       "      <td>0</td>\n",
       "      <td>113803</td>\n",
       "      <td>53.1000</td>\n",
       "      <td>C123</td>\n",
       "      <td>S</td>\n",
       "    </tr>\n",
       "    <tr>\n",
       "      <th>4</th>\n",
       "      <td>5</td>\n",
       "      <td>0</td>\n",
       "      <td>3</td>\n",
       "      <td>Allen, Mr. William Henry</td>\n",
       "      <td>male</td>\n",
       "      <td>35.0</td>\n",
       "      <td>0</td>\n",
       "      <td>0</td>\n",
       "      <td>373450</td>\n",
       "      <td>8.0500</td>\n",
       "      <td>NaN</td>\n",
       "      <td>S</td>\n",
       "    </tr>\n",
       "  </tbody>\n",
       "</table>\n",
       "</div>"
      ],
      "text/plain": [
       "   PassengerId  Survived  Pclass  \\\n",
       "0            1         0       3   \n",
       "1            2         1       1   \n",
       "2            3         1       3   \n",
       "3            4         1       1   \n",
       "4            5         0       3   \n",
       "\n",
       "                                                Name     Sex   Age  SibSp  \\\n",
       "0                            Braund, Mr. Owen Harris    male  22.0      1   \n",
       "1  Cumings, Mrs. John Bradley (Florence Briggs Th...  female  38.0      1   \n",
       "2                             Heikkinen, Miss. Laina  female  26.0      0   \n",
       "3       Futrelle, Mrs. Jacques Heath (Lily May Peel)  female  35.0      1   \n",
       "4                           Allen, Mr. William Henry    male  35.0      0   \n",
       "\n",
       "   Parch            Ticket     Fare Cabin Embarked  \n",
       "0      0         A/5 21171   7.2500   NaN        S  \n",
       "1      0          PC 17599  71.2833   C85        C  \n",
       "2      0  STON/O2. 3101282   7.9250   NaN        S  \n",
       "3      0            113803  53.1000  C123        S  \n",
       "4      0            373450   8.0500   NaN        S  "
      ]
     },
     "execution_count": 5,
     "metadata": {},
     "output_type": "execute_result"
    }
   ],
   "source": [
    "data.head()"
   ]
  },
  {
   "cell_type": "code",
   "execution_count": 6,
   "id": "71700fb2",
   "metadata": {},
   "outputs": [],
   "source": [
    "cols_drop = ['PassengerId', 'Name', 'Ticket', 'Cabin']"
   ]
  },
  {
   "cell_type": "code",
   "execution_count": 7,
   "id": "d8a6c02d",
   "metadata": {},
   "outputs": [],
   "source": [
    "data = data.drop(columns = cols_drop)"
   ]
  },
  {
   "cell_type": "code",
   "execution_count": 8,
   "id": "58d31e33",
   "metadata": {},
   "outputs": [
    {
     "data": {
      "text/plain": [
       "array(['S', 'C', 'Q', nan], dtype=object)"
      ]
     },
     "execution_count": 8,
     "metadata": {},
     "output_type": "execute_result"
    }
   ],
   "source": [
    "data.head()\n",
    "pd.unique(data['Embarked'])\n"
   ]
  },
  {
   "cell_type": "code",
   "execution_count": 9,
   "id": "2eccb935",
   "metadata": {},
   "outputs": [
    {
     "data": {
      "application/vnd.microsoft.datawrangler.viewer.v0+json": {
       "columns": [
        {
         "name": "index",
         "rawType": "int64",
         "type": "integer"
        },
        {
         "name": "Survived",
         "rawType": "int64",
         "type": "integer"
        },
        {
         "name": "Pclass",
         "rawType": "int64",
         "type": "integer"
        },
        {
         "name": "Sex",
         "rawType": "int64",
         "type": "integer"
        },
        {
         "name": "Age",
         "rawType": "float64",
         "type": "float"
        },
        {
         "name": "SibSp",
         "rawType": "int64",
         "type": "integer"
        },
        {
         "name": "Parch",
         "rawType": "int64",
         "type": "integer"
        },
        {
         "name": "Fare",
         "rawType": "float64",
         "type": "float"
        },
        {
         "name": "Embarked",
         "rawType": "int64",
         "type": "integer"
        }
       ],
       "ref": "513da2ec-d60a-4103-a9cf-b4ac2a8d8b65",
       "rows": [
        [
         "0",
         "0",
         "3",
         "1",
         "22.0",
         "1",
         "0",
         "7.25",
         "2"
        ],
        [
         "1",
         "1",
         "1",
         "0",
         "38.0",
         "1",
         "0",
         "71.2833",
         "0"
        ],
        [
         "2",
         "1",
         "3",
         "0",
         "26.0",
         "0",
         "0",
         "7.925",
         "2"
        ],
        [
         "3",
         "1",
         "1",
         "0",
         "35.0",
         "1",
         "0",
         "53.1",
         "2"
        ],
        [
         "4",
         "0",
         "3",
         "1",
         "35.0",
         "0",
         "0",
         "8.05",
         "2"
        ]
       ],
       "shape": {
        "columns": 8,
        "rows": 5
       }
      },
      "text/html": [
       "<div>\n",
       "<style scoped>\n",
       "    .dataframe tbody tr th:only-of-type {\n",
       "        vertical-align: middle;\n",
       "    }\n",
       "\n",
       "    .dataframe tbody tr th {\n",
       "        vertical-align: top;\n",
       "    }\n",
       "\n",
       "    .dataframe thead th {\n",
       "        text-align: right;\n",
       "    }\n",
       "</style>\n",
       "<table border=\"1\" class=\"dataframe\">\n",
       "  <thead>\n",
       "    <tr style=\"text-align: right;\">\n",
       "      <th></th>\n",
       "      <th>Survived</th>\n",
       "      <th>Pclass</th>\n",
       "      <th>Sex</th>\n",
       "      <th>Age</th>\n",
       "      <th>SibSp</th>\n",
       "      <th>Parch</th>\n",
       "      <th>Fare</th>\n",
       "      <th>Embarked</th>\n",
       "    </tr>\n",
       "  </thead>\n",
       "  <tbody>\n",
       "    <tr>\n",
       "      <th>0</th>\n",
       "      <td>0</td>\n",
       "      <td>3</td>\n",
       "      <td>1</td>\n",
       "      <td>22.0</td>\n",
       "      <td>1</td>\n",
       "      <td>0</td>\n",
       "      <td>7.2500</td>\n",
       "      <td>2</td>\n",
       "    </tr>\n",
       "    <tr>\n",
       "      <th>1</th>\n",
       "      <td>1</td>\n",
       "      <td>1</td>\n",
       "      <td>0</td>\n",
       "      <td>38.0</td>\n",
       "      <td>1</td>\n",
       "      <td>0</td>\n",
       "      <td>71.2833</td>\n",
       "      <td>0</td>\n",
       "    </tr>\n",
       "    <tr>\n",
       "      <th>2</th>\n",
       "      <td>1</td>\n",
       "      <td>3</td>\n",
       "      <td>0</td>\n",
       "      <td>26.0</td>\n",
       "      <td>0</td>\n",
       "      <td>0</td>\n",
       "      <td>7.9250</td>\n",
       "      <td>2</td>\n",
       "    </tr>\n",
       "    <tr>\n",
       "      <th>3</th>\n",
       "      <td>1</td>\n",
       "      <td>1</td>\n",
       "      <td>0</td>\n",
       "      <td>35.0</td>\n",
       "      <td>1</td>\n",
       "      <td>0</td>\n",
       "      <td>53.1000</td>\n",
       "      <td>2</td>\n",
       "    </tr>\n",
       "    <tr>\n",
       "      <th>4</th>\n",
       "      <td>0</td>\n",
       "      <td>3</td>\n",
       "      <td>1</td>\n",
       "      <td>35.0</td>\n",
       "      <td>0</td>\n",
       "      <td>0</td>\n",
       "      <td>8.0500</td>\n",
       "      <td>2</td>\n",
       "    </tr>\n",
       "  </tbody>\n",
       "</table>\n",
       "</div>"
      ],
      "text/plain": [
       "   Survived  Pclass  Sex   Age  SibSp  Parch     Fare  Embarked\n",
       "0         0       3    1  22.0      1      0   7.2500         2\n",
       "1         1       1    0  38.0      1      0  71.2833         0\n",
       "2         1       3    0  26.0      0      0   7.9250         2\n",
       "3         1       1    0  35.0      1      0  53.1000         2\n",
       "4         0       3    1  35.0      0      0   8.0500         2"
      ]
     },
     "execution_count": 9,
     "metadata": {},
     "output_type": "execute_result"
    }
   ],
   "source": [
    "lab_enc = LabelEncoder()\n",
    "data['Sex'] = lab_enc.fit_transform(data['Sex'])\n",
    "data['Embarked'] = lab_enc.fit_transform(data['Embarked'])\n",
    "data.head()"
   ]
  },
  {
   "cell_type": "code",
   "execution_count": 10,
   "id": "3cf1c52a",
   "metadata": {},
   "outputs": [
    {
     "data": {
      "application/vnd.microsoft.datawrangler.viewer.v0+json": {
       "columns": [
        {
         "name": "index",
         "rawType": "object",
         "type": "string"
        },
        {
         "name": "0",
         "rawType": "int64",
         "type": "integer"
        }
       ],
       "ref": "043db5e4-dca8-4e2b-a8b9-4dac24b29dfd",
       "rows": [
        [
         "Survived",
         "0"
        ],
        [
         "Pclass",
         "0"
        ],
        [
         "Sex",
         "0"
        ],
        [
         "Age",
         "177"
        ],
        [
         "SibSp",
         "0"
        ],
        [
         "Parch",
         "0"
        ],
        [
         "Fare",
         "0"
        ],
        [
         "Embarked",
         "0"
        ]
       ],
       "shape": {
        "columns": 1,
        "rows": 8
       }
      },
      "text/plain": [
       "Survived      0\n",
       "Pclass        0\n",
       "Sex           0\n",
       "Age         177\n",
       "SibSp         0\n",
       "Parch         0\n",
       "Fare          0\n",
       "Embarked      0\n",
       "dtype: int64"
      ]
     },
     "execution_count": 10,
     "metadata": {},
     "output_type": "execute_result"
    }
   ],
   "source": [
    "data.isnull().sum()"
   ]
  },
  {
   "cell_type": "code",
   "execution_count": 11,
   "id": "e45693a8",
   "metadata": {},
   "outputs": [],
   "source": [
    "data = data.fillna(data['Age'].mean())"
   ]
  },
  {
   "cell_type": "code",
   "execution_count": 12,
   "id": "a5adf33e",
   "metadata": {},
   "outputs": [
    {
     "name": "stdout",
     "output_type": "stream",
     "text": [
      "<class 'pandas.core.frame.DataFrame'>\n",
      "RangeIndex: 891 entries, 0 to 890\n",
      "Data columns (total 8 columns):\n",
      " #   Column    Non-Null Count  Dtype  \n",
      "---  ------    --------------  -----  \n",
      " 0   Survived  891 non-null    int64  \n",
      " 1   Pclass    891 non-null    int64  \n",
      " 2   Sex       891 non-null    int64  \n",
      " 3   Age       891 non-null    float64\n",
      " 4   SibSp     891 non-null    int64  \n",
      " 5   Parch     891 non-null    int64  \n",
      " 6   Fare      891 non-null    float64\n",
      " 7   Embarked  891 non-null    int64  \n",
      "dtypes: float64(2), int64(6)\n",
      "memory usage: 55.8 KB\n"
     ]
    }
   ],
   "source": [
    "data.info()"
   ]
  },
  {
   "cell_type": "code",
   "execution_count": 13,
   "id": "2e455c12",
   "metadata": {},
   "outputs": [],
   "source": [
    "input_cols = ['Pclass', 'Sex', 'Age', 'SibSp', 'Parch', 'Fare', 'Embarked']\n",
    "output_col = ['Survived']\n"
   ]
  },
  {
   "cell_type": "code",
   "execution_count": 14,
   "id": "fa67624e",
   "metadata": {},
   "outputs": [
    {
     "data": {
      "application/vnd.microsoft.datawrangler.viewer.v0+json": {
       "columns": [
        {
         "name": "index",
         "rawType": "int64",
         "type": "integer"
        },
        {
         "name": "Pclass",
         "rawType": "int64",
         "type": "integer"
        },
        {
         "name": "Sex",
         "rawType": "int64",
         "type": "integer"
        },
        {
         "name": "Age",
         "rawType": "float64",
         "type": "float"
        },
        {
         "name": "SibSp",
         "rawType": "int64",
         "type": "integer"
        },
        {
         "name": "Parch",
         "rawType": "int64",
         "type": "integer"
        },
        {
         "name": "Fare",
         "rawType": "float64",
         "type": "float"
        },
        {
         "name": "Embarked",
         "rawType": "int64",
         "type": "integer"
        }
       ],
       "ref": "0758daf6-b307-4d34-8797-fcfd24770556",
       "rows": [
        [
         "0",
         "3",
         "1",
         "22.0",
         "1",
         "0",
         "7.25",
         "2"
        ],
        [
         "1",
         "1",
         "0",
         "38.0",
         "1",
         "0",
         "71.2833",
         "0"
        ],
        [
         "2",
         "3",
         "0",
         "26.0",
         "0",
         "0",
         "7.925",
         "2"
        ],
        [
         "3",
         "1",
         "0",
         "35.0",
         "1",
         "0",
         "53.1",
         "2"
        ],
        [
         "4",
         "3",
         "1",
         "35.0",
         "0",
         "0",
         "8.05",
         "2"
        ]
       ],
       "shape": {
        "columns": 7,
        "rows": 5
       }
      },
      "text/html": [
       "<div>\n",
       "<style scoped>\n",
       "    .dataframe tbody tr th:only-of-type {\n",
       "        vertical-align: middle;\n",
       "    }\n",
       "\n",
       "    .dataframe tbody tr th {\n",
       "        vertical-align: top;\n",
       "    }\n",
       "\n",
       "    .dataframe thead th {\n",
       "        text-align: right;\n",
       "    }\n",
       "</style>\n",
       "<table border=\"1\" class=\"dataframe\">\n",
       "  <thead>\n",
       "    <tr style=\"text-align: right;\">\n",
       "      <th></th>\n",
       "      <th>Pclass</th>\n",
       "      <th>Sex</th>\n",
       "      <th>Age</th>\n",
       "      <th>SibSp</th>\n",
       "      <th>Parch</th>\n",
       "      <th>Fare</th>\n",
       "      <th>Embarked</th>\n",
       "    </tr>\n",
       "  </thead>\n",
       "  <tbody>\n",
       "    <tr>\n",
       "      <th>0</th>\n",
       "      <td>3</td>\n",
       "      <td>1</td>\n",
       "      <td>22.0</td>\n",
       "      <td>1</td>\n",
       "      <td>0</td>\n",
       "      <td>7.2500</td>\n",
       "      <td>2</td>\n",
       "    </tr>\n",
       "    <tr>\n",
       "      <th>1</th>\n",
       "      <td>1</td>\n",
       "      <td>0</td>\n",
       "      <td>38.0</td>\n",
       "      <td>1</td>\n",
       "      <td>0</td>\n",
       "      <td>71.2833</td>\n",
       "      <td>0</td>\n",
       "    </tr>\n",
       "    <tr>\n",
       "      <th>2</th>\n",
       "      <td>3</td>\n",
       "      <td>0</td>\n",
       "      <td>26.0</td>\n",
       "      <td>0</td>\n",
       "      <td>0</td>\n",
       "      <td>7.9250</td>\n",
       "      <td>2</td>\n",
       "    </tr>\n",
       "    <tr>\n",
       "      <th>3</th>\n",
       "      <td>1</td>\n",
       "      <td>0</td>\n",
       "      <td>35.0</td>\n",
       "      <td>1</td>\n",
       "      <td>0</td>\n",
       "      <td>53.1000</td>\n",
       "      <td>2</td>\n",
       "    </tr>\n",
       "    <tr>\n",
       "      <th>4</th>\n",
       "      <td>3</td>\n",
       "      <td>1</td>\n",
       "      <td>35.0</td>\n",
       "      <td>0</td>\n",
       "      <td>0</td>\n",
       "      <td>8.0500</td>\n",
       "      <td>2</td>\n",
       "    </tr>\n",
       "  </tbody>\n",
       "</table>\n",
       "</div>"
      ],
      "text/plain": [
       "   Pclass  Sex   Age  SibSp  Parch     Fare  Embarked\n",
       "0       3    1  22.0      1      0   7.2500         2\n",
       "1       1    0  38.0      1      0  71.2833         0\n",
       "2       3    0  26.0      0      0   7.9250         2\n",
       "3       1    0  35.0      1      0  53.1000         2\n",
       "4       3    1  35.0      0      0   8.0500         2"
      ]
     },
     "execution_count": 14,
     "metadata": {},
     "output_type": "execute_result"
    }
   ],
   "source": [
    "X_data = data[input_cols]\n",
    "Y_data = data['Survived']\n",
    "X_data.head()"
   ]
  },
  {
   "cell_type": "code",
   "execution_count": 15,
   "id": "62f3ce7c",
   "metadata": {},
   "outputs": [
    {
     "data": {
      "application/vnd.microsoft.datawrangler.viewer.v0+json": {
       "columns": [
        {
         "name": "index",
         "rawType": "int64",
         "type": "integer"
        },
        {
         "name": "Survived",
         "rawType": "int64",
         "type": "integer"
        }
       ],
       "ref": "1bc8a946-6f43-46e5-95ec-ac6b575d46ca",
       "rows": [
        [
         "0",
         "0"
        ],
        [
         "1",
         "1"
        ],
        [
         "2",
         "1"
        ],
        [
         "3",
         "1"
        ],
        [
         "4",
         "0"
        ]
       ],
       "shape": {
        "columns": 1,
        "rows": 5
       }
      },
      "text/plain": [
       "0    0\n",
       "1    1\n",
       "2    1\n",
       "3    1\n",
       "4    0\n",
       "Name: Survived, dtype: int64"
      ]
     },
     "execution_count": 15,
     "metadata": {},
     "output_type": "execute_result"
    }
   ],
   "source": [
    "Y_data.head()"
   ]
  },
  {
   "cell_type": "code",
   "execution_count": 16,
   "id": "78baa412",
   "metadata": {},
   "outputs": [
    {
     "name": "stdout",
     "output_type": "stream",
     "text": [
      "(891, 7) (891,)\n"
     ]
    }
   ],
   "source": [
    "print(X_data.shape, Y_data.shape)"
   ]
  },
  {
   "cell_type": "code",
   "execution_count": 17,
   "id": "82636f24",
   "metadata": {},
   "outputs": [],
   "source": [
    "X_data = X_data.values\n",
    "Y_data = Y_data.values"
   ]
  },
  {
   "cell_type": "code",
   "execution_count": 18,
   "id": "0dbb7236",
   "metadata": {},
   "outputs": [],
   "source": [
    "x_train,x_test,y_train,y_test = train_test_split(X_data,Y_data,train_size = 0.8)"
   ]
  },
  {
   "cell_type": "code",
   "execution_count": 19,
   "id": "a331800f",
   "metadata": {},
   "outputs": [],
   "source": [
    "scale = StandardScaler()\n",
    "x_train = scale.fit_transform(x_train)\n",
    "x_test = scale.transform(x_test)"
   ]
  },
  {
   "cell_type": "code",
   "execution_count": 40,
   "id": "7d28fad0",
   "metadata": {},
   "outputs": [
    {
     "data": {
      "text/plain": [
       "array([[-8.84296542e-01, -1.15050058e+00, -4.89179012e-01,\n",
       "        -2.74024511e-01, -8.29167641e-04,  1.20583724e-01,\n",
       "        -1.89801633e-01]])"
      ]
     },
     "execution_count": 40,
     "metadata": {},
     "output_type": "execute_result"
    }
   ],
   "source": [
    "clf = LogisticRegression()\n",
    "clf.fit(x_train,y_train)\n",
    "clf.coef_"
   ]
  },
  {
   "cell_type": "code",
   "execution_count": 41,
   "id": "b5c102c9",
   "metadata": {},
   "outputs": [
    {
     "data": {
      "text/plain": [
       "array([-0.61319369])"
      ]
     },
     "execution_count": 41,
     "metadata": {},
     "output_type": "execute_result"
    }
   ],
   "source": [
    "clf.intercept_"
   ]
  },
  {
   "cell_type": "code",
   "execution_count": 21,
   "id": "ee34ebb7",
   "metadata": {},
   "outputs": [
    {
     "data": {
      "text/plain": [
       "0.7851123595505618"
      ]
     },
     "execution_count": 21,
     "metadata": {},
     "output_type": "execute_result"
    }
   ],
   "source": [
    "accuracy_score(y_train,clf.predict(x_train))"
   ]
  },
  {
   "cell_type": "code",
   "execution_count": 22,
   "id": "76be1912",
   "metadata": {},
   "outputs": [
    {
     "data": {
      "text/plain": [
       "0.8603351955307262"
      ]
     },
     "execution_count": 22,
     "metadata": {},
     "output_type": "execute_result"
    }
   ],
   "source": [
    "accuracy_score(y_test,clf.predict(x_test))"
   ]
  },
  {
   "cell_type": "code",
   "execution_count": 23,
   "id": "3c7bdd35",
   "metadata": {},
   "outputs": [
    {
     "data": {
      "text/plain": [
       "array([[-1.56505577, -1.35107247, -0.87636436,  5.01562354, -0.48025544,\n",
       "         1.49579613, -1.98057823]])"
      ]
     },
     "execution_count": 23,
     "metadata": {},
     "output_type": "execute_result"
    }
   ],
   "source": [
    "xt = np.array([[1,0,18,6,0,100,0]])\n",
    "xt = scale.transform(xt)\n",
    "xt"
   ]
  },
  {
   "cell_type": "code",
   "execution_count": 24,
   "id": "0c965a46",
   "metadata": {},
   "outputs": [
    {
     "data": {
      "text/plain": [
       "array([1])"
      ]
     },
     "execution_count": 24,
     "metadata": {},
     "output_type": "execute_result"
    }
   ],
   "source": [
    "clf.predict(xt)"
   ]
  },
  {
   "cell_type": "code",
   "execution_count": 25,
   "id": "ebbdfbbb",
   "metadata": {},
   "outputs": [],
   "source": [
    "from sklearn.metrics import confusion_matrix, classification_report,roc_curve\n",
    "import seaborn as sns\n",
    "import matplotlib.pyplot as plt"
   ]
  },
  {
   "cell_type": "code",
   "execution_count": 26,
   "id": "c39e56c7",
   "metadata": {},
   "outputs": [],
   "source": [
    "ypred = [1,1,0,0,0,1,0,1,1,1]\n",
    "yac = [1,0,0,0,1,1,0,1,0,1]"
   ]
  },
  {
   "cell_type": "code",
   "execution_count": 27,
   "id": "d98ea46f",
   "metadata": {},
   "outputs": [],
   "source": [
    "cm = confusion_matrix(yac,ypred)"
   ]
  },
  {
   "cell_type": "code",
   "execution_count": 28,
   "id": "e65d571c",
   "metadata": {},
   "outputs": [
    {
     "data": {
      "text/plain": [
       "<Axes: >"
      ]
     },
     "execution_count": 28,
     "metadata": {},
     "output_type": "execute_result"
    },
    {
     "data": {
      "image/png": "[encoded data removed]",
      "text/plain": [
       "<Figure size 640x480 with 2 Axes>"
      ]
     },
     "metadata": {},
     "output_type": "display_data"
    }
   ],
   "source": [
    "sns.heatmap(cm,annot=True)"
   ]
  },
  {
   "cell_type": "code",
   "execution_count": 29,
   "id": "7e3cd517",
   "metadata": {},
   "outputs": [
    {
     "data": {
      "text/plain": [
       "<Axes: >"
      ]
     },
     "execution_count": 29,
     "metadata": {},
     "output_type": "execute_result"
    },
    {
     "data": {
      "image/png": "[encoded data removed]",
      "text/plain": [
       "<Figure size 640x480 with 2 Axes>"
      ]
     },
     "metadata": {},
     "output_type": "display_data"
    }
   ],
   "source": [
    "sns.heatmap(confusion_matrix(y_train,clf.predict(x_train)),annot = True,fmt='g')"
   ]
  },
  {
   "cell_type": "code",
   "execution_count": 30,
   "id": "38c31ea3",
   "metadata": {},
   "outputs": [
    {
     "name": "stdout",
     "output_type": "stream",
     "text": [
      "              precision    recall  f1-score   support\n",
      "\n",
      "           0       0.75      0.60      0.67         5\n",
      "           1       0.67      0.80      0.73         5\n",
      "\n",
      "    accuracy                           0.70        10\n",
      "   macro avg       0.71      0.70      0.70        10\n",
      "weighted avg       0.71      0.70      0.70        10\n",
      "\n"
     ]
    }
   ],
   "source": [
    "print(classification_report(yac,ypred))"
   ]
  },
  {
   "cell_type": "code",
   "execution_count": 31,
   "id": "091a0f37",
   "metadata": {},
   "outputs": [
    {
     "name": "stdout",
     "output_type": "stream",
     "text": [
      "              precision    recall  f1-score   support\n",
      "\n",
      "           0       0.81      0.85      0.83       437\n",
      "           1       0.74      0.68      0.71       275\n",
      "\n",
      "    accuracy                           0.79       712\n",
      "   macro avg       0.78      0.77      0.77       712\n",
      "weighted avg       0.78      0.79      0.78       712\n",
      "\n"
     ]
    }
   ],
   "source": [
    "print(classification_report(y_train,clf.predict(x_train)))"
   ]
  },
  {
   "cell_type": "code",
   "execution_count": null,
   "id": "b8ece331",
   "metadata": {},
   "outputs": [],
   "source": [
    "fpr,tpr,_ = roc_curve(y_train,clf.predict_proba(x_train)[:,0],pos_label=0)\n",
    "\n",
    "# fpr, tpr, _ = roc_curve(y_train, clf.predict_proba(x_train)[:,0], pos_label=0)\n",
    "# clf.predict_proba(x_train)[:, 0]:\n",
    "# This gives the predicted probability that each sample belongs to class 0.\n",
    "\n",
    "# roc_curve(y_train, ..., pos_label=0):\n",
    "\n",
    "# Calculates the FPR and TPR at various thresholds.\n",
    "\n",
    "# pos_label=0 means we are treating class 0 as the positive class (which is a bit unusual — usually 1 is the positive class).\n",
    "\n",
    "# 📌 Mathematical meaning:\n",
    "\n",
    "# For multiple thresholds (e.g. 0.1, 0.2, ..., 0.9), it calculates:\n",
    "\n",
    "# TPR (Recall) = TP / (TP + FN)\n",
    "\n",
    "# FPR = FP / (FP + TN)\n",
    "\n"
   ]
  },
  {
   "cell_type": "code",
   "execution_count": null,
   "id": "5fc01084",
   "metadata": {},
   "outputs": [
    {
     "data": {
      "image/png": "[encoded data removed]",
      "text/plain": [
       "<Figure size 640x480 with 1 Axes>"
      ]
     },
     "metadata": {},
     "output_type": "display_data"
    }
   ],
   "source": [
    "plt.plot(fpr,tpr)\n",
    "plt.plot([0,1],[0,1],'r--')\n",
    "plt.grid()\n",
    "plt.title('ROC Curve')\n",
    "plt.show()\n",
    "\n",
    "# plt.plot([0,1],[0,1],'r--')\n",
    "# This plots a dashed red diagonal line from (0,0) to (1,1),\n",
    "#  representing a random classifier — i.e., 50/50 guessing.\n",
    "\n"
   ]
  },
  {
   "cell_type": "code",
   "execution_count": 34,
   "id": "958101ef",
   "metadata": {},
   "outputs": [
    {
     "data": {
      "text/plain": [
       "array([0.09504128, 0.09486153, 0.50252414, 0.25738752, 0.9072471 ,\n",
       "       0.11549343, 0.48612941, 0.40237098, 0.8876288 , 0.60386383,\n",
       "       0.3308422 , 0.0790938 , 0.25700414, 0.29983277, 0.729773  ,\n",
       "       0.51975073, 0.52852004, 0.59714764, 0.06640433, 0.95380475,\n",
       "       0.48335314, 0.12710824, 0.72413175, 0.9627088 , 0.83265026,\n",
       "       0.1188924 , 0.3961669 , 0.09080753, 0.92109101, 0.89040497,\n",
       "       0.16756804, 0.11769376, 0.92947174, 0.48485958, 0.80423511,\n",
       "       0.16857786, 0.33850316, 0.11791113, 0.28381768, 0.74304197,\n",
       "       0.14532826, 0.11108794, 0.48041568, 0.50822512, 0.05590179,\n",
       "       0.10100106, 0.79011752, 0.05791161, 0.12290246, 0.74788313,\n",
       "       0.10100106, 0.49510469, 0.27949108, 0.31381811, 0.85655047,\n",
       "       0.06222957, 0.46966146, 0.12317046, 0.04512548, 0.31522732,\n",
       "       0.10760515, 0.93745398, 0.46347647, 0.24758059, 0.96277224,\n",
       "       0.67247435, 0.50608218, 0.60996804, 0.71230724, 0.09505533,\n",
       "       0.33322016, 0.13548907, 0.08788381, 0.72772163, 0.11790659,\n",
       "       0.12244437, 0.95986205, 0.13541382, 0.12699709, 0.14532826,\n",
       "       0.76579909, 0.6079834 , 0.09341914, 0.37001921, 0.80481073,\n",
       "       0.13548907, 0.93338446, 0.32250966, 0.70415465, 0.13952597,\n",
       "       0.84098406, 0.34763598, 0.11797746, 0.06987494, 0.01623484,\n",
       "       0.07768781, 0.06173814, 0.48629175, 0.11791113, 0.94673663,\n",
       "       0.14972986, 0.47668768, 0.0973173 , 0.05791161, 0.85038231,\n",
       "       0.37878801, 0.04753938, 0.73481091, 0.46067891, 0.14006337,\n",
       "       0.44001132, 0.94567399, 0.10793019, 0.09500661, 0.10650815,\n",
       "       0.12692464, 0.0669389 , 0.41246447, 0.09500661, 0.94657923,\n",
       "       0.11924413, 0.58205518, 0.76849512, 0.09593126, 0.31813575,\n",
       "       0.09663849, 0.08522267, 0.36480465, 0.10760515, 0.23365802,\n",
       "       0.11498563, 0.07292556, 0.59541389, 0.4508545 , 0.07128731,\n",
       "       0.33466965, 0.53809558, 0.10892879, 0.08189445, 0.32336715,\n",
       "       0.13618729, 0.26664813, 0.10062086, 0.11791113, 0.11125478,\n",
       "       0.87167752, 0.59399234, 0.13174387, 0.30104554, 0.07928445,\n",
       "       0.13566514, 0.8493222 , 0.76462901, 0.14532826, 0.78451523,\n",
       "       0.94998778, 0.13164049, 0.33397868, 0.72161103, 0.07773005,\n",
       "       0.0985812 , 0.38388012, 0.19111552, 0.09440007, 0.65874495,\n",
       "       0.17874961, 0.10760307, 0.0949289 , 0.87814341, 0.52630377,\n",
       "       0.23238936, 0.59023705, 0.09824781, 0.0519744 , 0.69469882,\n",
       "       0.95844262, 0.89736758, 0.7503135 , 0.14532826, 0.73855134,\n",
       "       0.22834264, 0.28381768, 0.87722657, 0.19794305, 0.76764514,\n",
       "       0.53544292, 0.11791113, 0.42539364, 0.1122335 , 0.07718709,\n",
       "       0.61906436, 0.25355461, 0.09500661, 0.4830267 , 0.14924786,\n",
       "       0.89208212, 0.95252089, 0.37968115, 0.51065147, 0.33292022,\n",
       "       0.11505328, 0.78984759, 0.07143386, 0.74819143, 0.73654991,\n",
       "       0.05575364, 0.20594712, 0.32689272, 0.53561717, 0.58991142,\n",
       "       0.56562228, 0.51920806, 0.07156694, 0.95029525, 0.53769597,\n",
       "       0.78466988, 0.09500661, 0.03135235, 0.09486153, 0.94339479,\n",
       "       0.48036673, 0.93647723, 0.10534642, 0.41640096, 0.41764554,\n",
       "       0.59665508, 0.25693276, 0.87433456, 0.27626692, 0.12435602,\n",
       "       0.34828298, 0.13308918, 0.11271741, 0.08505043, 0.11378587,\n",
       "       0.08785762, 0.42623647, 0.05746001, 0.92233386, 0.56063885,\n",
       "       0.10413545, 0.20790835, 0.14963559, 0.71231618, 0.43139624,\n",
       "       0.59095516, 0.09497945, 0.82553795, 0.08785762, 0.77669807,\n",
       "       0.85277766, 0.12696086, 0.28249096, 0.19793208, 0.07621125,\n",
       "       0.17533089, 0.04056912, 0.370016  , 0.14769163, 0.19515168,\n",
       "       0.10383699, 0.83780422, 0.97140347, 0.59915838, 0.8113012 ,\n",
       "       0.06516078, 0.40334826, 0.25437513, 0.84458376, 0.90994569,\n",
       "       0.08175629, 0.87499346, 0.18642603, 0.12275339, 0.48355802,\n",
       "       0.36887558, 0.65344875, 0.13117048, 0.94209092, 0.92363479,\n",
       "       0.59714764, 0.26087536, 0.42223401, 0.07649078, 0.17723129,\n",
       "       0.09646753, 0.91389361, 0.77306771, 0.61363089, 0.12360944,\n",
       "       0.09500661, 0.6225989 , 0.17874961, 0.59739133, 0.48057234,\n",
       "       0.84079453, 0.12599773, 0.23568188, 0.57214106, 0.06207526,\n",
       "       0.0924926 , 0.12290246, 0.60670684, 0.53802091, 0.12717474,\n",
       "       0.61707119, 0.59707166, 0.55145983, 0.09504128, 0.74428797,\n",
       "       0.09500661, 0.80847517, 0.60298098, 0.11543984, 0.05505771,\n",
       "       0.09500661, 0.77714439, 0.09481664, 0.70791734, 0.14393282,\n",
       "       0.72535726, 0.48275802, 0.08206186, 0.26616021, 0.51010488,\n",
       "       0.17252481, 0.08785762, 0.36495564, 0.09500661, 0.26395173,\n",
       "       0.56083963, 0.21295144, 0.60793422, 0.5629491 , 0.78708444,\n",
       "       0.82715753, 0.82558831, 0.09504128, 0.08825977, 0.54994123,\n",
       "       0.06899403, 0.55765429, 0.91389181, 0.13114939, 0.83367255,\n",
       "       0.1005972 , 0.53287549, 0.59714764, 0.25437513, 0.59714764,\n",
       "       0.09504128, 0.12254894, 0.03440753, 0.91361249, 0.72007674,\n",
       "       0.64896515, 0.31381811, 0.14425581, 0.40171342, 0.91376383,\n",
       "       0.59713978, 0.4337778 , 0.33347281, 0.86655642, 0.97985729,\n",
       "       0.52576332, 0.12267717, 0.05901376, 0.09504128, 0.17252481,\n",
       "       0.24733715, 0.22701871, 0.44077484, 0.10650815, 0.42304258,\n",
       "       0.05614936, 0.39802094, 0.75726999, 0.45183256, 0.17439905,\n",
       "       0.64403343, 0.0770084 , 0.09727711, 0.08206186, 0.09500661,\n",
       "       0.60826134, 0.27569925, 0.09504128, 0.28369973, 0.41161081,\n",
       "       0.10922991, 0.89510883, 0.11791113, 0.04504716, 0.13990467,\n",
       "       0.11790547, 0.89902655, 0.5972289 , 0.9447123 , 0.52279094,\n",
       "       0.14532689, 0.01623484, 0.9135567 , 0.40048883, 0.23365802,\n",
       "       0.13114939, 0.08822429, 0.39263433, 0.27496194, 0.72633995,\n",
       "       0.10086762, 0.05975363, 0.14766662, 0.1269174 , 0.77174415,\n",
       "       0.28381768, 0.48057234, 0.59915581, 0.09765084, 0.14532689,\n",
       "       0.52398677, 0.71711682, 0.38047071, 0.33026216, 0.12720171,\n",
       "       0.22961439, 0.40257128, 0.11790433, 0.49539713, 0.9679298 ,\n",
       "       0.74843076, 0.36432693, 0.51519314, 0.08489626, 0.34299065,\n",
       "       0.19264772, 0.22961439, 0.60954549, 0.88546191, 0.12682918,\n",
       "       0.26884163, 0.23365802, 0.1197547 , 0.29338453, 0.14532689,\n",
       "       0.10757483, 0.24865585, 0.32031204, 0.51886231, 0.07176918,\n",
       "       0.69197181, 0.22961439, 0.60046887, 0.05023498, 0.11198187,\n",
       "       0.18491705, 0.59714764, 0.74571828, 0.8609624 , 0.01623484,\n",
       "       0.1546911 , 0.11791113, 0.80919305, 0.68095465, 0.39475735,\n",
       "       0.48077463, 0.11923417, 0.10061102, 0.54058112, 0.07823768,\n",
       "       0.06342304, 0.12283084, 0.10403685, 0.80447151, 0.91721495,\n",
       "       0.91434741, 0.48294922, 0.34110799, 0.91700829, 0.87108093,\n",
       "       0.75828152, 0.49667423, 0.19034404, 0.23248966, 0.09653851,\n",
       "       0.14883142, 0.12326932, 0.1546911 , 0.14393417, 0.22599534,\n",
       "       0.13556948, 0.07773005, 0.14532689, 0.09487556, 0.36432693,\n",
       "       0.11766887, 0.62295315, 0.17660067, 0.86551068, 0.7548326 ,\n",
       "       0.75560762, 0.11591021, 0.05998909, 0.13998467, 0.70600487,\n",
       "       0.74112802, 0.50861828, 0.32521808, 0.19481511, 0.16268173,\n",
       "       0.19584245, 0.62650098, 0.18379368, 0.16422224, 0.61918859,\n",
       "       0.72162061, 0.59719745, 0.09486153, 0.1188924 , 0.87716973,\n",
       "       0.10437681, 0.10424827, 0.10923926, 0.18462755, 0.14581061,\n",
       "       0.09650163, 0.15099575, 0.20790835, 0.09500661, 0.74545218,\n",
       "       0.86614652, 0.14915659, 0.32773368, 0.13747883, 0.09361618,\n",
       "       0.09085272, 0.93113759, 0.36189904, 0.62058731, 0.14475275,\n",
       "       0.59939608, 0.09500661, 0.55369484, 0.69923577, 0.11481171,\n",
       "       0.03379511, 0.09504128, 0.64315622, 0.61696024, 0.64332373,\n",
       "       0.10650815, 0.10362997, 0.20374833, 0.16599692, 0.75947191,\n",
       "       0.24612235, 0.32721163, 0.9689318 , 0.48077463, 0.26884163,\n",
       "       0.63520758, 0.4895676 , 0.84534285, 0.13090998, 0.22961439,\n",
       "       0.93295965, 0.33786907, 0.87762964, 0.95406519, 0.58118804,\n",
       "       0.11793267, 0.69617315, 0.5972289 , 0.60235754, 0.74903978,\n",
       "       0.0491449 , 0.11103632, 0.948245  , 0.48424173, 0.81710364,\n",
       "       0.59843076, 0.85890649, 0.09497945, 0.53370943, 0.12179792,\n",
       "       0.09536784, 0.06206004, 0.88935188, 0.08160604, 0.09791068,\n",
       "       0.24627685, 0.32576193, 0.20733851, 0.4857447 , 0.36432693,\n",
       "       0.10406123, 0.10062086, 0.04515929, 0.11791113, 0.729773  ,\n",
       "       0.59714764, 0.11811356, 0.53802091, 0.09389837, 0.47077376,\n",
       "       0.91930712, 0.14532826, 0.14924786, 0.93927454, 0.09500661,\n",
       "       0.09650163, 0.96653932, 0.22587377, 0.63449993, 0.88678903,\n",
       "       0.33062327, 0.38764001, 0.60898917, 0.41398625, 0.22938591,\n",
       "       0.09980807, 0.20498207, 0.07656469, 0.6063112 , 0.40634866,\n",
       "       0.78058502, 0.66417269, 0.14475275, 0.28867357, 0.26092331,\n",
       "       0.47105108, 0.13752432, 0.12694035, 0.39456134, 0.71474988,\n",
       "       0.54058112, 0.09801566, 0.83200021, 0.80890343, 0.60510329,\n",
       "       0.13155832, 0.12337906, 0.65460541, 0.65913475, 0.09500661,\n",
       "       0.42303311, 0.13548907, 0.15880816, 0.08372454, 0.70913179,\n",
       "       0.9200147 , 0.93273043, 0.29427524, 0.11810388, 0.14532689,\n",
       "       0.08871086, 0.10509776, 0.12267717, 0.06240952, 0.1129373 ,\n",
       "       0.9008943 , 0.05789378, 0.4911261 , 0.122642  , 0.12285901,\n",
       "       0.60111744, 0.18544848, 0.05220031, 0.33992623, 0.11791113,\n",
       "       0.34299065, 0.02818282, 0.67986968, 0.08794933, 0.4836796 ,\n",
       "       0.76811484, 0.13099297, 0.95633152, 0.11490584, 0.06299308,\n",
       "       0.80890343, 0.95844262, 0.36857755, 0.88581068, 0.15316122,\n",
       "       0.46347647, 0.57209575, 0.92655272, 0.13106201, 0.35889527,\n",
       "       0.29829362, 0.73855134, 0.21641412, 0.07910809, 0.37718475,\n",
       "       0.28279096, 0.72722986, 0.12692342, 0.11103632, 0.12885282,\n",
       "       0.67696008, 0.12696086, 0.7237576 , 0.93860004, 0.11119125,\n",
       "       0.59021533, 0.1628465 , 0.60854056, 0.0621305 , 0.15622324,\n",
       "       0.07511783, 0.26816709])"
      ]
     },
     "execution_count": 34,
     "metadata": {},
     "output_type": "execute_result"
    }
   ],
   "source": [
    "clf.predict_proba(x_train)[:,1]"
   ]
  },
  {
   "cell_type": "code",
   "execution_count": 42,
   "id": "c43317af",
   "metadata": {},
   "outputs": [
    {
     "data": {
      "image/png": "[encoded data removed]",
      "text/plain": [
       "<Figure size 800x600 with 1 Axes>"
      ]
     },
     "metadata": {},
     "output_type": "display_data"
    }
   ],
   "source": [
    "import numpy as np\n",
    "import matplotlib.pyplot as plt\n",
    "from sklearn.metrics import roc_curve, roc_auc_score\n",
    "\n",
    "# Same actual and predicted probabilities as before\n",
    "actual = np.array([\n",
    "    1, 1, 1, 0, 0, 1, 0, 0, 1, 0,\n",
    "    1, 1, 0, 1, 0, 0, 1, 1, 0, 0\n",
    "])\n",
    "\n",
    "# Instead of hard labels, use prediction **probabilities** (fake example)\n",
    "# These would normally come from model.predict_proba()[:, 1]\n",
    "# Here we use random plausible probabilities for illustration:\n",
    "predicted_prob = np.array([\n",
    "    0.9, 0.85, 0.4, 0.2, 0.7, 0.8, 0.1, 0.3, 0.2, 0.75,\n",
    "    0.88, 0.82, 0.3, 0.35, 0.25, 0.1, 0.9, 0.92, 0.2, 0.7\n",
    "])\n",
    "\n",
    "# Compute ROC curve\n",
    "fpr, tpr, thresholds = roc_curve(actual, predicted_prob)\n",
    "\n",
    "# Compute AUC (Area Under Curve)\n",
    "auc_score = roc_auc_score(actual, predicted_prob)\n",
    "\n",
    "# Plot ROC curve\n",
    "plt.figure(figsize=(8, 6))\n",
    "plt.plot(fpr, tpr, color='darkorange', linewidth=2, label=f'ROC Curve (AUC = {auc_score:.2f})')\n",
    "plt.plot([0, 1], [0, 1], color='navy', linestyle='--')  # Diagonal line\n",
    "plt.xlim([0.0, 1.0])\n",
    "plt.ylim([0.0, 1.05])\n",
    "plt.xlabel('False Positive Rate')\n",
    "plt.ylabel('True Positive Rate (Recall)')\n",
    "plt.title('Receiver Operating Characteristic (ROC) Curve')\n",
    "plt.legend(loc=\"lower right\")\n",
    "plt.grid(True)\n",
    "plt.show()\n"
   ]
  },
  {
   "cell_type": "code",
   "execution_count": null,
   "id": "92838b69",
   "metadata": {},
   "outputs": [],
   "source": []
  },
  {
   "cell_type": "code",
   "execution_count": null,
   "id": "280c3765",
   "metadata": {},
   "outputs": [],
   "source": []
  },
  {
   "cell_type": "code",
   "execution_count": null,
   "id": "9f6a297d",
   "metadata": {},
   "outputs": [],
   "source": []
  },
  {
   "cell_type": "code",
   "execution_count": null,
   "id": "1b5f6d88",
   "metadata": {},
   "outputs": [],
   "source": []
  }
 ],
 "metadata": {
  "kernelspec": {
   "display_name": ".venv",
   "language": "python",
   "name": "python3"
  },
  "language_info": {
   "codemirror_mode": {
    "name": "ipython",
    "version": 3
   },
   "file_extension": ".py",
   "mimetype": "text/x-python",
   "name": "python",
   "nbconvert_exporter": "python",
   "pygments_lexer": "ipython3",
   "version": "3.13.1"
  }
 },
 "nbformat": 4,
 "nbformat_minor": 5
}
